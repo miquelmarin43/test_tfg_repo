{
 "cells": [
  {
   "cell_type": "markdown",
   "id": "6cd10e23",
   "metadata": {},
   "source": [
    "#### LIBRERÍAS"
   ]
  },
  {
   "cell_type": "code",
   "execution_count": 3,
   "id": "76c34ea4",
   "metadata": {},
   "outputs": [],
   "source": [
    "import numpy as np\n",
    "import time\n",
    "from numpy import cov\n",
    "from numpy import trace\n",
    "from numpy import iscomplexobj\n",
    "from numpy import asarray\n",
    "from numpy.random import shuffle\n",
    "from scipy.linalg import sqrtm\n",
    "from tensorflow.keras.applications.inception_v3 import InceptionV3\n",
    "from tensorflow.keras.applications.inception_v3 import preprocess_input\n",
    "from tensorflow.keras.models import load_model\n",
    "from skimage.transform import resize"
   ]
  },
  {
   "cell_type": "markdown",
   "id": "1142341c",
   "metadata": {},
   "source": [
    "#### Funciones para calcular el FID score"
   ]
  },
  {
   "cell_type": "code",
   "execution_count": 4,
   "id": "ad752783",
   "metadata": {},
   "outputs": [],
   "source": [
    "def calculate_fid(model, images1, images2):\n",
    "    act1 = model.predict(images1)\n",
    "    act2 = model.predict(images2)\n",
    "\n",
    "    mu1, sigma1 = act1.mean(axis=0), cov(act1, rowvar=False)\n",
    "    mu2, sigma2 = act2.mean(axis=0), cov(act2, rowvar=False)\n",
    "\n",
    "    ssdiff = np.sum((mu1 - mu2) ** 2.0)\n",
    "\n",
    "    covmean = sqrtm(sigma1.dot(sigma2))\n",
    "\n",
    "    if iscomplexobj(covmean):\n",
    "        covmean = covmean.real\n",
    "\n",
    "    fid = ssdiff + trace(sigma1 + sigma2 - 2.0 * covmean)\n",
    "    return fid\n",
    "\n",
    "def scale_images(images, new_shape):\n",
    "    images_list = list()\n",
    "    for image in images:\n",
    "        new_image = resize(image, new_shape, 0)*255\n",
    "        images_list.append(new_image)\n",
    "    return asarray(images_list)\n",
    "\n",
    "model = InceptionV3(include_top=False, pooling='avg', input_shape=(299,299,3))"
   ]
  },
  {
   "cell_type": "code",
   "execution_count": 23,
   "id": "59b18025",
   "metadata": {},
   "outputs": [],
   "source": [
    "def fid_score_display(GENERATOR_PATH, gan_type, usf=True):\n",
    "    \n",
    "    if usf == True:\n",
    "        \n",
    "        real_imgs = np.load(\"/Users/miquel43/Documents/TFG/z_DRIVE_FICHEROS/mamma.npy\", allow_pickle=True)\n",
    "        \n",
    "        if gan_type == \"gan\":\n",
    "            gen_path = GENERATOR_PATH+'gan_generator_1999.h5'\n",
    "        \n",
    "        elif gan_type == \"dcgan\":\n",
    "            gen_path = GENERATOR_PATH+'dcgan_generator_1999.h5'\n",
    "            \n",
    "        else:\n",
    "            gen_path = GENERATOR_PATH+'wgangp_generator_1999.h5'\n",
    "            \n",
    "    else:\n",
    "        \n",
    "        real_imgs = np.load(\"/Users/miquel43/Documents/TFG/z_DRIVE_FICHEROS/mamma_disco_duro.npy\", allow_pickle=True)\n",
    "        \n",
    "        if gan_type == \"gan\":\n",
    "            gen_path = GENERATOR_PATH+'gan_generator_3999.h5'\n",
    "\n",
    "        elif gan_type == \"dcgan\":\n",
    "            gen_path = GENERATOR_PATH+'dcgan_generator_3999.h5'\n",
    "        \n",
    "        else:\n",
    "            gen_path = GENERATOR_PATH+'wgangp_generator_3999.h5' \n",
    "            \n",
    "\n",
    "    generator = load_model(gen_path)\n",
    "    \n",
    "    label = np.ones(1000)\n",
    "    noise = np.random.normal(0, 1, (1000, generator.input_shape[1]))\n",
    "\n",
    "    print('Latent dimension:', generator.input_shape[1])\n",
    "    gen_samples = generator.predict(noise)\n",
    "    gen_samples = gen_samples*0.5 + 0.5\n",
    "\n",
    "\n",
    "    real_samples = real_imgs.astype('float32') / 255.\n",
    "\n",
    "    gen_samples = scale_images(gen_samples, (299,299,3))\n",
    "    real_samples = scale_images(real_samples, (299,299,3))\n",
    "    print('Scaled', gen_samples.shape, real_samples.shape)\n",
    "    print('Scaled range for generated', np.min(gen_samples[0]), np.max(gen_samples[0]))\n",
    "    print('Scaled range for real', np.min(real_samples[0]), np.max(real_samples[0]))\n",
    "\n",
    "    gen_samples = preprocess_input(gen_samples)\n",
    "    real_samples = preprocess_input(real_samples)\n",
    "    print('Scaled range for generated', np.min(gen_samples[0]), np.max(gen_samples[0]))\n",
    "    print('Scaled range for real', np.min(real_samples[0]), np.max(real_samples[0]))\n",
    "\n",
    "    fid = calculate_fid(model, gen_samples, real_samples)\n",
    "    print('>>FID: %.3f' % fid)\n",
    "    print('-'*50)"
   ]
  },
  {
   "cell_type": "markdown",
   "id": "24e85535",
   "metadata": {},
   "source": [
    "## <font color='red'>GAN</font> "
   ]
  },
  {
   "cell_type": "markdown",
   "id": "d959d1e9",
   "metadata": {},
   "source": [
    "### MAMMI SOUTH FLORIDA"
   ]
  },
  {
   "cell_type": "markdown",
   "id": "1848bcba",
   "metadata": {},
   "source": [
    "#### RMSprop Batch Size 128 Dropout 0.4 "
   ]
  },
  {
   "cell_type": "code",
   "execution_count": 21,
   "id": "067dd656",
   "metadata": {},
   "outputs": [
    {
     "name": "stdout",
     "output_type": "stream",
     "text": [
      "WARNING:tensorflow:No training configuration found in the save file, so the model was *not* compiled. Compile it manually.\n",
      "Latent dimension: 32\n"
     ]
    },
    {
     "name": "stderr",
     "output_type": "stream",
     "text": [
      "2022-06-19 14:12:30.522868: I tensorflow/core/grappler/optimizers/custom_graph_optimizer_registry.cc:112] Plugin optimizer for device_type GPU is enabled.\n"
     ]
    },
    {
     "name": "stdout",
     "output_type": "stream",
     "text": [
      "Scaled (1000, 299, 299, 3) (2615, 299, 299, 3)\n",
      "Scaled range for generated 10.62182 254.8011\n",
      "Scaled range for real 0.0 255.0\n",
      "Scaled range for generated -0.9166916 0.99844\n",
      "Scaled range for real -1.0 1.0\n",
      ">>FID: 411.374\n",
      "--------------------------------------------------\n",
      "CPU times: user 1min 14s, sys: 32.7 s, total: 1min 47s\n",
      "Wall time: 50.9 s\n"
     ]
    }
   ],
   "source": [
    "%%time\n",
    "fid_score_display(\"/Users/miquel43/Documents/TFG/NUEVOS RESULTADOS EXPERIMENTACION - GAN (DISCO DURO Y FLORIDA)/GAN_RMSPROP_DROPOUT_04_BATCH_SIZE_128/\", \"gan\", usf=True)"
   ]
  },
  {
   "cell_type": "code",
   "execution_count": 7,
   "id": "e57ba01e",
   "metadata": {},
   "outputs": [
    {
     "name": "stdout",
     "output_type": "stream",
     "text": [
      "WARNING:tensorflow:No training configuration found in the save file, so the model was *not* compiled. Compile it manually.\n",
      "Latent dimension: 32\n"
     ]
    },
    {
     "name": "stderr",
     "output_type": "stream",
     "text": [
      "2022-05-25 20:53:19.839933: I tensorflow/compiler/mlir/mlir_graph_optimization_pass.cc:185] None of the MLIR Optimization Passes are enabled (registered 2)\n",
      "2022-05-25 20:53:19.843117: W tensorflow/core/platform/profile_utils/cpu_utils.cc:128] Failed to get CPU frequency: 0 Hz\n",
      "2022-05-25 20:53:19.892604: I tensorflow/core/grappler/optimizers/custom_graph_optimizer_registry.cc:112] Plugin optimizer for device_type GPU is enabled.\n"
     ]
    },
    {
     "name": "stdout",
     "output_type": "stream",
     "text": [
      "Scaled (1000, 299, 299, 3) (2615, 299, 299, 3)\n",
      "Scaled range for generated 0.12707278 254.69615\n",
      "Scaled range for real 0.0 255.0\n",
      "Scaled range for generated -0.99900335 0.9976169\n",
      "Scaled range for real -1.0 1.0\n"
     ]
    },
    {
     "name": "stderr",
     "output_type": "stream",
     "text": [
      "2022-05-25 20:53:37.239301: I tensorflow/core/grappler/optimizers/custom_graph_optimizer_registry.cc:112] Plugin optimizer for device_type GPU is enabled.\n"
     ]
    },
    {
     "name": "stdout",
     "output_type": "stream",
     "text": [
      ">>FID: 414.678\n",
      "--------------------------------------------------\n",
      "CPU times: user 1min 4s, sys: 27.7 s, total: 1min 31s\n",
      "Wall time: 51 s\n"
     ]
    }
   ],
   "source": [
    "%%time\n",
    "fid_score_display(\"/Users/miquel43/Documents/TFG/NUEVOS RESULTADOS EXPERIMENTACION - GAN (DISCO DURO Y FLORIDA)/GAN_RMSPROP_DROPOUT_04_BATCH_SIZE_128/\", \"gan\", usf=True)"
   ]
  },
  {
   "cell_type": "markdown",
   "id": "f56a0248",
   "metadata": {},
   "source": [
    "#### RMSprop Batch Size 64 Dropout 0.4 "
   ]
  },
  {
   "cell_type": "code",
   "execution_count": 8,
   "id": "7c780324",
   "metadata": {},
   "outputs": [
    {
     "name": "stdout",
     "output_type": "stream",
     "text": [
      "WARNING:tensorflow:No training configuration found in the save file, so the model was *not* compiled. Compile it manually.\n",
      "Latent dimension: 32\n"
     ]
    },
    {
     "name": "stderr",
     "output_type": "stream",
     "text": [
      "2022-05-25 20:54:13.817206: I tensorflow/core/grappler/optimizers/custom_graph_optimizer_registry.cc:112] Plugin optimizer for device_type GPU is enabled.\n"
     ]
    },
    {
     "name": "stdout",
     "output_type": "stream",
     "text": [
      "Scaled (1000, 299, 299, 3) (2615, 299, 299, 3)\n",
      "Scaled range for generated 0.013139695 255.0\n",
      "Scaled range for real 0.0 255.0\n",
      "Scaled range for generated -0.99989694 1.0\n",
      "Scaled range for real -1.0 1.0\n",
      ">>FID: 371.248\n",
      "--------------------------------------------------\n",
      "CPU times: user 1min 1s, sys: 24.3 s, total: 1min 25s\n",
      "Wall time: 46.8 s\n"
     ]
    }
   ],
   "source": [
    "%%time\n",
    "fid_score_display(\"/Users/miquel43/Documents/TFG/NUEVOS RESULTADOS EXPERIMENTACION - GAN (DISCO DURO Y FLORIDA)/GAN_RMSPROP_DROPOUT_04_BATCH_SIZE_64/\", \"gan\", usf=True)"
   ]
  },
  {
   "cell_type": "markdown",
   "id": "45ee1744",
   "metadata": {},
   "source": [
    "#### RMSprop Batch Size 32 Dropout 0.4 "
   ]
  },
  {
   "cell_type": "code",
   "execution_count": 9,
   "id": "710c8f14",
   "metadata": {},
   "outputs": [
    {
     "name": "stdout",
     "output_type": "stream",
     "text": [
      "WARNING:tensorflow:No training configuration found in the save file, so the model was *not* compiled. Compile it manually.\n",
      "Latent dimension: 32\n"
     ]
    },
    {
     "name": "stderr",
     "output_type": "stream",
     "text": [
      "2022-05-25 20:55:27.519281: I tensorflow/core/grappler/optimizers/custom_graph_optimizer_registry.cc:112] Plugin optimizer for device_type GPU is enabled.\n"
     ]
    },
    {
     "name": "stdout",
     "output_type": "stream",
     "text": [
      "Scaled (1000, 299, 299, 3) (2615, 299, 299, 3)\n",
      "Scaled range for generated 3.0398369e-05 255.0\n",
      "Scaled range for real 0.0 255.0\n",
      "Scaled range for generated -0.99999976 1.0\n",
      "Scaled range for real -1.0 1.0\n",
      ">>FID: 372.429\n",
      "--------------------------------------------------\n",
      "CPU times: user 1min 3s, sys: 29.3 s, total: 1min 32s\n",
      "Wall time: 47.4 s\n"
     ]
    }
   ],
   "source": [
    "%%time\n",
    "fid_score_display(\"/Users/miquel43/Documents/TFG/NUEVOS RESULTADOS EXPERIMENTACION - GAN (DISCO DURO Y FLORIDA)/GAN_RMSPROP_DROPOUT_04_BATCH_SIZE_32/\", \"gan\", usf=True)"
   ]
  },
  {
   "cell_type": "markdown",
   "id": "02537479",
   "metadata": {},
   "source": [
    "#### RMSprop Batch Size 16 Dropout 0.4 "
   ]
  },
  {
   "cell_type": "code",
   "execution_count": 10,
   "id": "900e74c1",
   "metadata": {},
   "outputs": [
    {
     "name": "stdout",
     "output_type": "stream",
     "text": [
      "WARNING:tensorflow:No training configuration found in the save file, so the model was *not* compiled. Compile it manually.\n",
      "Latent dimension: 32\n"
     ]
    },
    {
     "name": "stderr",
     "output_type": "stream",
     "text": [
      "2022-05-25 20:56:35.506288: I tensorflow/core/grappler/optimizers/custom_graph_optimizer_registry.cc:112] Plugin optimizer for device_type GPU is enabled.\n"
     ]
    },
    {
     "name": "stdout",
     "output_type": "stream",
     "text": [
      "Scaled (1000, 299, 299, 3) (2615, 299, 299, 3)\n",
      "Scaled range for generated 4.434438 254.99684\n",
      "Scaled range for real 0.0 255.0\n",
      "Scaled range for generated -0.9652201 0.9999752\n",
      "Scaled range for real -1.0 1.0\n",
      ">>FID: 400.530\n",
      "--------------------------------------------------\n",
      "CPU times: user 1min 8s, sys: 33 s, total: 1min 41s\n",
      "Wall time: 49.7 s\n"
     ]
    }
   ],
   "source": [
    "%%time\n",
    "fid_score_display(\"/Users/miquel43/Documents/TFG/NUEVOS RESULTADOS EXPERIMENTACION - GAN (DISCO DURO Y FLORIDA)/GAN_RMSPROP_DROPOUT_04_BATCH_SIZE_16/\", \"gan\", usf=True)"
   ]
  },
  {
   "cell_type": "markdown",
   "id": "59fb252c",
   "metadata": {},
   "source": [
    "#### RMSprop Batch Size 64 Dropout 0.5"
   ]
  },
  {
   "cell_type": "code",
   "execution_count": 11,
   "id": "13351e77",
   "metadata": {},
   "outputs": [
    {
     "name": "stdout",
     "output_type": "stream",
     "text": [
      "WARNING:tensorflow:No training configuration found in the save file, so the model was *not* compiled. Compile it manually.\n",
      "Latent dimension: 32\n"
     ]
    },
    {
     "name": "stderr",
     "output_type": "stream",
     "text": [
      "2022-05-25 20:57:40.344794: I tensorflow/core/grappler/optimizers/custom_graph_optimizer_registry.cc:112] Plugin optimizer for device_type GPU is enabled.\n"
     ]
    },
    {
     "name": "stdout",
     "output_type": "stream",
     "text": [
      "Scaled (1000, 299, 299, 3) (2615, 299, 299, 3)\n",
      "Scaled range for generated 0.00763759 254.11754\n",
      "Scaled range for real 0.0 255.0\n",
      "Scaled range for generated -0.9999401 0.9930787\n",
      "Scaled range for real -1.0 1.0\n",
      ">>FID: 388.168\n",
      "--------------------------------------------------\n",
      "CPU times: user 1min 4s, sys: 34.8 s, total: 1min 39s\n",
      "Wall time: 49 s\n"
     ]
    }
   ],
   "source": [
    "%%time\n",
    "fid_score_display(\"/Users/miquel43/Documents/TFG/NUEVOS RESULTADOS EXPERIMENTACION - GAN (DISCO DURO Y FLORIDA)/GAN_RMSPROP_DROPOUT_05_BATCH_SIZE_64/\", \"gan\", usf=True)"
   ]
  },
  {
   "cell_type": "markdown",
   "id": "291792f9",
   "metadata": {},
   "source": [
    "#### RMSprop Batch Size 64 Dropout 0.6"
   ]
  },
  {
   "cell_type": "code",
   "execution_count": 12,
   "id": "02c9b8f2",
   "metadata": {},
   "outputs": [
    {
     "name": "stdout",
     "output_type": "stream",
     "text": [
      "WARNING:tensorflow:No training configuration found in the save file, so the model was *not* compiled. Compile it manually.\n",
      "Latent dimension: 32\n"
     ]
    },
    {
     "name": "stderr",
     "output_type": "stream",
     "text": [
      "2022-05-25 20:58:29.295841: I tensorflow/core/grappler/optimizers/custom_graph_optimizer_registry.cc:112] Plugin optimizer for device_type GPU is enabled.\n"
     ]
    },
    {
     "name": "stdout",
     "output_type": "stream",
     "text": [
      "Scaled (1000, 299, 299, 3) (2615, 299, 299, 3)\n",
      "Scaled range for generated 23.87716 253.88326\n",
      "Scaled range for real 0.0 255.0\n",
      "Scaled range for generated -0.81272817 0.9912412\n",
      "Scaled range for real -1.0 1.0\n",
      ">>FID: 374.613\n",
      "--------------------------------------------------\n",
      "CPU times: user 1min 25s, sys: 37.6 s, total: 2min 3s\n",
      "Wall time: 53.7 s\n"
     ]
    }
   ],
   "source": [
    "%%time\n",
    "fid_score_display(\"/Users/miquel43/Documents/TFG/NUEVOS RESULTADOS EXPERIMENTACION - GAN (DISCO DURO Y FLORIDA)/GAN_RMSPROP_DROPOUT_06_BATCH_SIZE_64/\", \"gan\", usf=True)"
   ]
  },
  {
   "cell_type": "markdown",
   "id": "25209ffc",
   "metadata": {},
   "source": [
    "#### Adam Batch Size 64 Dropout 0.4"
   ]
  },
  {
   "cell_type": "code",
   "execution_count": 13,
   "id": "7bdf551b",
   "metadata": {},
   "outputs": [
    {
     "name": "stdout",
     "output_type": "stream",
     "text": [
      "WARNING:tensorflow:No training configuration found in the save file, so the model was *not* compiled. Compile it manually.\n",
      "Latent dimension: 32\n"
     ]
    },
    {
     "name": "stderr",
     "output_type": "stream",
     "text": [
      "2022-05-25 21:07:42.028584: I tensorflow/core/grappler/optimizers/custom_graph_optimizer_registry.cc:112] Plugin optimizer for device_type GPU is enabled.\n"
     ]
    },
    {
     "name": "stdout",
     "output_type": "stream",
     "text": [
      "Scaled (1000, 299, 299, 3) (2615, 299, 299, 3)\n",
      "Scaled range for generated 7.6056414 253.84708\n",
      "Scaled range for real 0.0 255.0\n",
      "Scaled range for generated -0.9403479 0.9909575\n",
      "Scaled range for real -1.0 1.0\n",
      ">>FID: 449.061\n",
      "--------------------------------------------------\n",
      "CPU times: user 1min 9s, sys: 36.8 s, total: 1min 45s\n",
      "Wall time: 52.8 s\n"
     ]
    }
   ],
   "source": [
    "%%time\n",
    "fid_score_display(\"/Users/miquel43/Documents/TFG/NUEVOS RESULTADOS EXPERIMENTACION - GAN (DISCO DURO Y FLORIDA)/GAN_ADAM_DROPOUT_04_BATCH_SIZE_64/\", \"gan\", usf=True)"
   ]
  },
  {
   "cell_type": "markdown",
   "id": "fa4d9a9a",
   "metadata": {},
   "source": [
    "#### Adam Batch Size 64 Dropout 0.5"
   ]
  },
  {
   "cell_type": "code",
   "execution_count": 13,
   "id": "1f519552",
   "metadata": {},
   "outputs": [
    {
     "name": "stdout",
     "output_type": "stream",
     "text": [
      "WARNING:tensorflow:No training configuration found in the save file, so the model was *not* compiled. Compile it manually.\n",
      "Latent dimension: 32\n"
     ]
    },
    {
     "name": "stderr",
     "output_type": "stream",
     "text": [
      "2022-06-07 09:51:49.474142: I tensorflow/core/grappler/optimizers/custom_graph_optimizer_registry.cc:112] Plugin optimizer for device_type GPU is enabled.\n"
     ]
    },
    {
     "name": "stdout",
     "output_type": "stream",
     "text": [
      "Scaled (1000, 299, 299, 3) (2615, 299, 299, 3)\n",
      "Scaled range for generated 29.5666 251.67822\n",
      "Scaled range for real 0.0 255.0\n",
      "Scaled range for generated -0.7681051 0.9739468\n",
      "Scaled range for real -1.0 1.0\n",
      ">>FID: 363.068\n",
      "--------------------------------------------------\n",
      "CPU times: user 1min 13s, sys: 29.9 s, total: 1min 43s\n",
      "Wall time: 54 s\n"
     ]
    }
   ],
   "source": [
    "%%time\n",
    "fid_score_display(\"/Users/miquel43/Documents/TFG/NUEVOS RESULTADOS EXPERIMENTACION - GAN (DISCO DURO Y FLORIDA)/GAN_ADAM_DROPOUT_05_BATCH_SIZE_64/\", \"gan\", usf=True)"
   ]
  },
  {
   "cell_type": "markdown",
   "id": "7908757a",
   "metadata": {},
   "source": [
    "#### Adam Batch Size 64 Dropout 0.6"
   ]
  },
  {
   "cell_type": "code",
   "execution_count": 15,
   "id": "a73f2d5b",
   "metadata": {},
   "outputs": [
    {
     "name": "stdout",
     "output_type": "stream",
     "text": [
      "WARNING:tensorflow:No training configuration found in the save file, so the model was *not* compiled. Compile it manually.\n",
      "Latent dimension: 32\n"
     ]
    },
    {
     "name": "stderr",
     "output_type": "stream",
     "text": [
      "2022-05-25 21:09:25.309498: I tensorflow/core/grappler/optimizers/custom_graph_optimizer_registry.cc:112] Plugin optimizer for device_type GPU is enabled.\n"
     ]
    },
    {
     "name": "stdout",
     "output_type": "stream",
     "text": [
      "Scaled (1000, 299, 299, 3) (2615, 299, 299, 3)\n",
      "Scaled range for generated 54.797295 232.76149\n",
      "Scaled range for real 0.0 255.0\n",
      "Scaled range for generated -0.5702173 0.82558036\n",
      "Scaled range for real -1.0 1.0\n",
      ">>FID: 366.376\n",
      "--------------------------------------------------\n",
      "CPU times: user 1min 7s, sys: 37 s, total: 1min 44s\n",
      "Wall time: 52.3 s\n"
     ]
    }
   ],
   "source": [
    "%%time\n",
    "fid_score_display(\"/Users/miquel43/Documents/TFG/NUEVOS RESULTADOS EXPERIMENTACION - GAN (DISCO DURO Y FLORIDA)/GAN_ADAM_DROPOUT_06_BATCH_SIZE_64/\", \"gan\", usf=True)"
   ]
  },
  {
   "cell_type": "markdown",
   "id": "f21b9be1",
   "metadata": {},
   "source": [
    "#### Adadelta Batch Size 64 Dropout 0.4"
   ]
  },
  {
   "cell_type": "code",
   "execution_count": 16,
   "id": "4fdfa9ab",
   "metadata": {},
   "outputs": [
    {
     "name": "stdout",
     "output_type": "stream",
     "text": [
      "WARNING:tensorflow:No training configuration found in the save file, so the model was *not* compiled. Compile it manually.\n",
      "Latent dimension: 32\n"
     ]
    },
    {
     "name": "stderr",
     "output_type": "stream",
     "text": [
      "2022-05-25 21:10:17.607921: I tensorflow/core/grappler/optimizers/custom_graph_optimizer_registry.cc:112] Plugin optimizer for device_type GPU is enabled.\n"
     ]
    },
    {
     "name": "stdout",
     "output_type": "stream",
     "text": [
      "Scaled (1000, 299, 299, 3) (2615, 299, 299, 3)\n",
      "Scaled range for generated 58.699783 193.4823\n",
      "Scaled range for real 0.0 255.0\n",
      "Scaled range for generated -0.53960955 0.51750827\n",
      "Scaled range for real -1.0 1.0\n",
      ">>FID: 558.790\n",
      "--------------------------------------------------\n",
      "CPU times: user 1min 8s, sys: 35.1 s, total: 1min 43s\n",
      "Wall time: 51.2 s\n"
     ]
    }
   ],
   "source": [
    "%%time\n",
    "fid_score_display(\"/Users/miquel43/Documents/TFG/NUEVOS RESULTADOS EXPERIMENTACION - GAN (DISCO DURO Y FLORIDA)/GAN_ADADELTA_DROPOUT_04_BATCH_SIZE_64/\", \"gan\", usf=True)"
   ]
  },
  {
   "cell_type": "markdown",
   "id": "9b63f37f",
   "metadata": {},
   "source": [
    "#### Adadelta Batch Size 64 Dropout 0.5"
   ]
  },
  {
   "cell_type": "code",
   "execution_count": 17,
   "id": "e3b2d867",
   "metadata": {},
   "outputs": [
    {
     "name": "stdout",
     "output_type": "stream",
     "text": [
      "WARNING:tensorflow:No training configuration found in the save file, so the model was *not* compiled. Compile it manually.\n",
      "Latent dimension: 32\n"
     ]
    },
    {
     "name": "stderr",
     "output_type": "stream",
     "text": [
      "2022-05-25 21:11:08.875757: I tensorflow/core/grappler/optimizers/custom_graph_optimizer_registry.cc:112] Plugin optimizer for device_type GPU is enabled.\n"
     ]
    },
    {
     "name": "stdout",
     "output_type": "stream",
     "text": [
      "Scaled (1000, 299, 299, 3) (2615, 299, 299, 3)\n",
      "Scaled range for generated 62.04209 187.14984\n",
      "Scaled range for real 0.0 255.0\n",
      "Scaled range for generated -0.51339537 0.46784186\n",
      "Scaled range for real -1.0 1.0\n",
      ">>FID: 534.553\n",
      "--------------------------------------------------\n",
      "CPU times: user 1min 4s, sys: 34.7 s, total: 1min 38s\n",
      "Wall time: 50.5 s\n"
     ]
    }
   ],
   "source": [
    "%%time\n",
    "fid_score_display(\"/Users/miquel43/Documents/TFG/NUEVOS RESULTADOS EXPERIMENTACION - GAN (DISCO DURO Y FLORIDA)/GAN_ADADELTA_DROPOUT_05_BATCH_SIZE_64/\", \"gan\", usf=True)"
   ]
  },
  {
   "cell_type": "markdown",
   "id": "12976765",
   "metadata": {},
   "source": [
    "#### Adadelta Batch Size 64 Dropout 0.6"
   ]
  },
  {
   "cell_type": "code",
   "execution_count": 18,
   "id": "227cfb60",
   "metadata": {},
   "outputs": [
    {
     "name": "stdout",
     "output_type": "stream",
     "text": [
      "WARNING:tensorflow:No training configuration found in the save file, so the model was *not* compiled. Compile it manually.\n",
      "Latent dimension: 32\n"
     ]
    },
    {
     "name": "stderr",
     "output_type": "stream",
     "text": [
      "2022-05-25 21:11:59.375794: I tensorflow/core/grappler/optimizers/custom_graph_optimizer_registry.cc:112] Plugin optimizer for device_type GPU is enabled.\n"
     ]
    },
    {
     "name": "stdout",
     "output_type": "stream",
     "text": [
      "Scaled (1000, 299, 299, 3) (2615, 299, 299, 3)\n",
      "Scaled range for generated 80.10183 176.70624\n",
      "Scaled range for real 0.0 255.0\n",
      "Scaled range for generated -0.37175035 0.38593125\n",
      "Scaled range for real -1.0 1.0\n",
      ">>FID: 514.508\n",
      "--------------------------------------------------\n",
      "CPU times: user 1min 3s, sys: 34.2 s, total: 1min 38s\n",
      "Wall time: 50.2 s\n"
     ]
    }
   ],
   "source": [
    "%%time\n",
    "fid_score_display(\"/Users/miquel43/Documents/TFG/NUEVOS RESULTADOS EXPERIMENTACION - GAN (DISCO DURO Y FLORIDA)/GAN_ADADELTA_DROPOUT_06_BATCH_SIZE_64/\", \"gan\", usf=True)"
   ]
  },
  {
   "cell_type": "markdown",
   "id": "15e5d3f6",
   "metadata": {},
   "source": [
    "#### RMSprop Batch Size 64 Dropout 0.4 Learning Rate 0.0004"
   ]
  },
  {
   "cell_type": "code",
   "execution_count": 19,
   "id": "5f13465b",
   "metadata": {},
   "outputs": [
    {
     "name": "stdout",
     "output_type": "stream",
     "text": [
      "WARNING:tensorflow:No training configuration found in the save file, so the model was *not* compiled. Compile it manually.\n",
      "Latent dimension: 32\n"
     ]
    },
    {
     "name": "stderr",
     "output_type": "stream",
     "text": [
      "2022-05-25 21:12:49.579345: I tensorflow/core/grappler/optimizers/custom_graph_optimizer_registry.cc:112] Plugin optimizer for device_type GPU is enabled.\n"
     ]
    },
    {
     "name": "stdout",
     "output_type": "stream",
     "text": [
      "Scaled (1000, 299, 299, 3) (2615, 299, 299, 3)\n",
      "Scaled range for generated 0.0 255.0\n",
      "Scaled range for real 0.0 255.0\n",
      "Scaled range for generated -1.0 1.0\n",
      "Scaled range for real -1.0 1.0\n",
      ">>FID: 408.380\n",
      "--------------------------------------------------\n",
      "CPU times: user 1min 8s, sys: 34.8 s, total: 1min 43s\n",
      "Wall time: 50.8 s\n"
     ]
    }
   ],
   "source": [
    "%%time\n",
    "fid_score_display(\"/Users/miquel43/Documents/TFG/NUEVOS RESULTADOS EXPERIMENTACION - GAN (DISCO DURO Y FLORIDA)/GAN_RMSPROP_DROPOUT_04_BATCH_SIZE_64_LR_04/\", \"gan\", usf=True)"
   ]
  },
  {
   "cell_type": "markdown",
   "id": "7569d299",
   "metadata": {},
   "source": [
    "#### RMSprop Batch Size 64 Dropout 0.4 Learning Rate 0.001"
   ]
  },
  {
   "cell_type": "code",
   "execution_count": 20,
   "id": "d6c6775d",
   "metadata": {},
   "outputs": [
    {
     "name": "stdout",
     "output_type": "stream",
     "text": [
      "WARNING:tensorflow:No training configuration found in the save file, so the model was *not* compiled. Compile it manually.\n",
      "Latent dimension: 32\n"
     ]
    },
    {
     "name": "stderr",
     "output_type": "stream",
     "text": [
      "2022-05-25 21:13:40.424836: I tensorflow/core/grappler/optimizers/custom_graph_optimizer_registry.cc:112] Plugin optimizer for device_type GPU is enabled.\n"
     ]
    },
    {
     "name": "stdout",
     "output_type": "stream",
     "text": [
      "Scaled (1000, 299, 299, 3) (2615, 299, 299, 3)\n",
      "Scaled range for generated 0.0 255.0\n",
      "Scaled range for real 0.0 255.0\n",
      "Scaled range for generated -1.0 1.0\n",
      "Scaled range for real -1.0 1.0\n",
      ">>FID: 411.708\n",
      "--------------------------------------------------\n",
      "CPU times: user 1min 9s, sys: 24.5 s, total: 1min 33s\n",
      "Wall time: 48.9 s\n"
     ]
    }
   ],
   "source": [
    "%%time\n",
    "fid_score_display(\"/Users/miquel43/Documents/TFG/NUEVOS RESULTADOS EXPERIMENTACION - GAN (DISCO DURO Y FLORIDA)/GAN_RMSPROP_DROPOUT_04_BATCH_SIZE_64_LR_01/\", \"gan\", usf=True)"
   ]
  },
  {
   "cell_type": "markdown",
   "id": "5d649f39",
   "metadata": {},
   "source": [
    "### DISCO DURO "
   ]
  },
  {
   "cell_type": "markdown",
   "id": "90df3524",
   "metadata": {},
   "source": [
    "#### RMSprop Batch Size 32 Dropout 0.4"
   ]
  },
  {
   "cell_type": "code",
   "execution_count": 25,
   "id": "ef01ea70",
   "metadata": {},
   "outputs": [
    {
     "name": "stdout",
     "output_type": "stream",
     "text": [
      "WARNING:tensorflow:No training configuration found in the save file, so the model was *not* compiled. Compile it manually.\n",
      "Latent dimension: 32\n"
     ]
    },
    {
     "name": "stderr",
     "output_type": "stream",
     "text": [
      "2022-05-25 21:25:36.705478: I tensorflow/core/grappler/optimizers/custom_graph_optimizer_registry.cc:112] Plugin optimizer for device_type GPU is enabled.\n"
     ]
    },
    {
     "name": "stdout",
     "output_type": "stream",
     "text": [
      "Scaled (150, 299, 299, 3) (404, 299, 299, 3)\n",
      "Scaled range for generated 0.58203757 254.9985\n",
      "Scaled range for real 0.0 255.0\n",
      "Scaled range for generated -0.995435 0.9999883\n",
      "Scaled range for real -1.0 1.0\n",
      ">>FID: 373.394\n",
      "--------------------------------------------------\n",
      "CPU times: user 54.9 s, sys: 11.7 s, total: 1min 6s\n",
      "Wall time: 14.6 s\n"
     ]
    }
   ],
   "source": [
    "%%time\n",
    "fid_score_display(\"/Users/miquel43/Documents/TFG/NUEVOS RESULTADOS EXPERIMENTACION - GAN (DISCO DURO Y FLORIDA)/DISCO_DURO_GAN_RMSPROP_DROPOUT_04_BATCH_SIZE_32/\", \"gan\", usf=False)"
   ]
  },
  {
   "cell_type": "markdown",
   "id": "3442a87b",
   "metadata": {},
   "source": [
    "#### RMSprop Batch Size 16 Dropout 0.4"
   ]
  },
  {
   "cell_type": "code",
   "execution_count": 27,
   "id": "9d82d8fc",
   "metadata": {},
   "outputs": [
    {
     "name": "stdout",
     "output_type": "stream",
     "text": [
      "WARNING:tensorflow:No training configuration found in the save file, so the model was *not* compiled. Compile it manually.\n",
      "Latent dimension: 32\n"
     ]
    },
    {
     "name": "stderr",
     "output_type": "stream",
     "text": [
      "2022-05-25 21:31:02.155127: I tensorflow/core/grappler/optimizers/custom_graph_optimizer_registry.cc:112] Plugin optimizer for device_type GPU is enabled.\n"
     ]
    },
    {
     "name": "stdout",
     "output_type": "stream",
     "text": [
      "Scaled (150, 299, 299, 3) (404, 299, 299, 3)\n",
      "Scaled range for generated 3.0398369e-05 254.99493\n",
      "Scaled range for real 0.0 255.0\n",
      "Scaled range for generated -0.99999976 0.9999603\n",
      "Scaled range for real -1.0 1.0\n",
      ">>FID: 323.803\n",
      "--------------------------------------------------\n",
      "CPU times: user 51.4 s, sys: 11.1 s, total: 1min 2s\n",
      "Wall time: 13.4 s\n"
     ]
    }
   ],
   "source": [
    "%%time\n",
    "fid_score_display(\"/Users/miquel43/Documents/TFG/NUEVOS RESULTADOS EXPERIMENTACION - GAN (DISCO DURO Y FLORIDA)/DISCO_DURO_GAN_RMSPROP_DROPOUT_04_BATCH_SIZE_16/DD_GAN_RMSPROP_16_04_models/\", \"gan\", usf=False)"
   ]
  },
  {
   "cell_type": "markdown",
   "id": "d8a2cb93",
   "metadata": {},
   "source": [
    "#### RMSprop Batch Size 8 Dropout 0.4"
   ]
  },
  {
   "cell_type": "code",
   "execution_count": 32,
   "id": "293f1c2f",
   "metadata": {},
   "outputs": [
    {
     "name": "stdout",
     "output_type": "stream",
     "text": [
      "WARNING:tensorflow:No training configuration found in the save file, so the model was *not* compiled. Compile it manually.\n",
      "Latent dimension: 32\n"
     ]
    },
    {
     "name": "stderr",
     "output_type": "stream",
     "text": [
      "2022-05-25 21:47:13.542108: I tensorflow/core/grappler/optimizers/custom_graph_optimizer_registry.cc:112] Plugin optimizer for device_type GPU is enabled.\n"
     ]
    },
    {
     "name": "stdout",
     "output_type": "stream",
     "text": [
      "Scaled (150, 299, 299, 3) (404, 299, 299, 3)\n",
      "Scaled range for generated 0.0 254.99902\n",
      "Scaled range for real 0.0 255.0\n",
      "Scaled range for generated -1.0 0.9999924\n",
      "Scaled range for real -1.0 1.0\n",
      ">>FID: 329.973\n",
      "--------------------------------------------------\n",
      "CPU times: user 51.2 s, sys: 11.3 s, total: 1min 2s\n",
      "Wall time: 13.9 s\n"
     ]
    }
   ],
   "source": [
    "%%time\n",
    "fid_score_display(\"/Users/miquel43/Documents/TFG/NUEVOS RESULTADOS EXPERIMENTACION - GAN (DISCO DURO Y FLORIDA)/DISCO_DURO_GAN_RMSPROP_DROPOUT_04_BATCH_SIZE_8/DD_GAN_RMSPROP_8_04_models/\", \"gan\", usf=False)"
   ]
  },
  {
   "cell_type": "markdown",
   "id": "e88e3305",
   "metadata": {},
   "source": [
    "#### RMSprop Batch Size 32 Dropout 0.5"
   ]
  },
  {
   "cell_type": "code",
   "execution_count": 33,
   "id": "c4659792",
   "metadata": {},
   "outputs": [
    {
     "name": "stdout",
     "output_type": "stream",
     "text": [
      "WARNING:tensorflow:No training configuration found in the save file, so the model was *not* compiled. Compile it manually.\n",
      "Latent dimension: 32\n"
     ]
    },
    {
     "name": "stderr",
     "output_type": "stream",
     "text": [
      "2022-05-25 22:18:43.758668: I tensorflow/core/grappler/optimizers/custom_graph_optimizer_registry.cc:112] Plugin optimizer for device_type GPU is enabled.\n"
     ]
    },
    {
     "name": "stdout",
     "output_type": "stream",
     "text": [
      "Scaled (150, 299, 299, 3) (404, 299, 299, 3)\n",
      "Scaled range for generated 20.095154 253.40233\n",
      "Scaled range for real 0.0 255.0\n",
      "Scaled range for generated -0.84239095 0.9874692\n",
      "Scaled range for real -1.0 1.0\n",
      ">>FID: 356.103\n",
      "--------------------------------------------------\n",
      "CPU times: user 50.8 s, sys: 12 s, total: 1min 2s\n",
      "Wall time: 13.7 s\n"
     ]
    }
   ],
   "source": [
    "%%time\n",
    "fid_score_display(\"/Users/miquel43/Documents/TFG/NUEVOS RESULTADOS EXPERIMENTACION - GAN (DISCO DURO Y FLORIDA)/DISCO_DURO_GAN_RMSPROP_DROPOUT_05_BATCH_SIZE_32/DD_GAN_RMSPROP_32_05_models/\", \"gan\", usf=False)"
   ]
  },
  {
   "cell_type": "markdown",
   "id": "9cfb9164",
   "metadata": {},
   "source": [
    "#### RMSprop Batch Size 32 Dropout 0.6"
   ]
  },
  {
   "cell_type": "code",
   "execution_count": 34,
   "id": "1beea32a",
   "metadata": {},
   "outputs": [
    {
     "name": "stdout",
     "output_type": "stream",
     "text": [
      "WARNING:tensorflow:No training configuration found in the save file, so the model was *not* compiled. Compile it manually.\n",
      "Latent dimension: 32\n"
     ]
    },
    {
     "name": "stderr",
     "output_type": "stream",
     "text": [
      "2022-05-25 22:18:58.293666: I tensorflow/core/grappler/optimizers/custom_graph_optimizer_registry.cc:112] Plugin optimizer for device_type GPU is enabled.\n"
     ]
    },
    {
     "name": "stdout",
     "output_type": "stream",
     "text": [
      "Scaled (150, 299, 299, 3) (404, 299, 299, 3)\n",
      "Scaled range for generated 5.8374977 250.40454\n",
      "Scaled range for real 0.0 255.0\n",
      "Scaled range for generated -0.9542157 0.9639572\n",
      "Scaled range for real -1.0 1.0\n",
      ">>FID: 346.530\n",
      "--------------------------------------------------\n",
      "CPU times: user 50.6 s, sys: 11.9 s, total: 1min 2s\n",
      "Wall time: 13.5 s\n"
     ]
    }
   ],
   "source": [
    "%%time\n",
    "fid_score_display(\"/Users/miquel43/Documents/TFG/NUEVOS RESULTADOS EXPERIMENTACION - GAN (DISCO DURO Y FLORIDA)/DISCO_DURO_GAN_RMSPROP_DROPOUT_06_BATCH_SIZE_32/DD_GAN_RMSPROP_32_06_models/\", \"gan\", usf=False)"
   ]
  },
  {
   "cell_type": "markdown",
   "id": "2d200f6f",
   "metadata": {},
   "source": [
    "#### Adam Batch Size 32 Dropout 0.4"
   ]
  },
  {
   "cell_type": "code",
   "execution_count": 35,
   "id": "c2f1db1a",
   "metadata": {},
   "outputs": [
    {
     "name": "stdout",
     "output_type": "stream",
     "text": [
      "WARNING:tensorflow:No training configuration found in the save file, so the model was *not* compiled. Compile it manually.\n",
      "Latent dimension: 32\n"
     ]
    },
    {
     "name": "stderr",
     "output_type": "stream",
     "text": [
      "2022-05-25 22:19:32.076626: I tensorflow/core/grappler/optimizers/custom_graph_optimizer_registry.cc:112] Plugin optimizer for device_type GPU is enabled.\n"
     ]
    },
    {
     "name": "stdout",
     "output_type": "stream",
     "text": [
      "Scaled (150, 299, 299, 3) (404, 299, 299, 3)\n",
      "Scaled range for generated 5.375754 254.99805\n",
      "Scaled range for real 0.0 255.0\n",
      "Scaled range for generated -0.9578372 0.9999846\n",
      "Scaled range for real -1.0 1.0\n",
      ">>FID: 350.527\n",
      "--------------------------------------------------\n",
      "CPU times: user 46.3 s, sys: 12.3 s, total: 58.6 s\n",
      "Wall time: 12.9 s\n"
     ]
    }
   ],
   "source": [
    "%%time\n",
    "fid_score_display(\"/Users/miquel43/Documents/TFG/NUEVOS RESULTADOS EXPERIMENTACION - GAN (DISCO DURO Y FLORIDA)/DISCO_DURO_GAN_ADAM_DROPOUT_04_BATCH_SIZE_32/DD_GAN_ADAM_32_04_models/\", \"gan\", usf=False)"
   ]
  },
  {
   "cell_type": "markdown",
   "id": "8508198f",
   "metadata": {},
   "source": [
    "#### Adam Batch Size 32 Dropout 0.5"
   ]
  },
  {
   "cell_type": "code",
   "execution_count": 36,
   "id": "a3c1a4b1",
   "metadata": {},
   "outputs": [
    {
     "name": "stdout",
     "output_type": "stream",
     "text": [
      "WARNING:tensorflow:No training configuration found in the save file, so the model was *not* compiled. Compile it manually.\n",
      "Latent dimension: 32\n"
     ]
    },
    {
     "name": "stderr",
     "output_type": "stream",
     "text": [
      "2022-05-25 22:20:01.809390: I tensorflow/core/grappler/optimizers/custom_graph_optimizer_registry.cc:112] Plugin optimizer for device_type GPU is enabled.\n"
     ]
    },
    {
     "name": "stdout",
     "output_type": "stream",
     "text": [
      "Scaled (150, 299, 299, 3) (404, 299, 299, 3)\n",
      "Scaled range for generated 4.3599772 252.31645\n",
      "Scaled range for real 0.0 255.0\n",
      "Scaled range for generated -0.9658041 0.9789525\n",
      "Scaled range for real -1.0 1.0\n",
      ">>FID: 301.263\n",
      "--------------------------------------------------\n",
      "CPU times: user 51.7 s, sys: 11.7 s, total: 1min 3s\n",
      "Wall time: 13.3 s\n"
     ]
    }
   ],
   "source": [
    "%%time\n",
    "fid_score_display(\"/Users/miquel43/Documents/TFG/NUEVOS RESULTADOS EXPERIMENTACION - GAN (DISCO DURO Y FLORIDA)/DISCO_DURO_GAN_ADAM_DROPOUT_05_BATCH_SIZE_32/DD_GAN_ADAM_32_05_models/\", \"gan\", usf=False)"
   ]
  },
  {
   "cell_type": "markdown",
   "id": "e4307ad8",
   "metadata": {},
   "source": [
    "#### Adam Batch Size 32 Dropout 0.6"
   ]
  },
  {
   "cell_type": "code",
   "execution_count": 37,
   "id": "9dbadb4b",
   "metadata": {},
   "outputs": [
    {
     "name": "stdout",
     "output_type": "stream",
     "text": [
      "WARNING:tensorflow:No training configuration found in the save file, so the model was *not* compiled. Compile it manually.\n",
      "Latent dimension: 32\n"
     ]
    },
    {
     "name": "stderr",
     "output_type": "stream",
     "text": [
      "2022-05-25 22:20:15.160574: I tensorflow/core/grappler/optimizers/custom_graph_optimizer_registry.cc:112] Plugin optimizer for device_type GPU is enabled.\n"
     ]
    },
    {
     "name": "stdout",
     "output_type": "stream",
     "text": [
      "Scaled (150, 299, 299, 3) (404, 299, 299, 3)\n",
      "Scaled range for generated 31.499086 235.20732\n",
      "Scaled range for real 0.0 255.0\n",
      "Scaled range for generated -0.75294834 0.8447633\n",
      "Scaled range for real -1.0 1.0\n",
      ">>FID: 320.038\n",
      "--------------------------------------------------\n",
      "CPU times: user 55 s, sys: 13.5 s, total: 1min 8s\n",
      "Wall time: 13.8 s\n"
     ]
    }
   ],
   "source": [
    "%%time\n",
    "fid_score_display(\"/Users/miquel43/Documents/TFG/NUEVOS RESULTADOS EXPERIMENTACION - GAN (DISCO DURO Y FLORIDA)/DISCO_DURO_GAN_ADAM_DROPOUT_06_BATCH_SIZE_32/DD_GAN_ADAM_32_06_models/\", \"gan\", usf=False)"
   ]
  },
  {
   "cell_type": "markdown",
   "id": "6bf148dd",
   "metadata": {},
   "source": [
    "#### Adadelta Batch Size 32 Dropout 0.4"
   ]
  },
  {
   "cell_type": "code",
   "execution_count": 38,
   "id": "7387b077",
   "metadata": {},
   "outputs": [
    {
     "name": "stdout",
     "output_type": "stream",
     "text": [
      "WARNING:tensorflow:No training configuration found in the save file, so the model was *not* compiled. Compile it manually.\n",
      "Latent dimension: 32\n"
     ]
    },
    {
     "name": "stderr",
     "output_type": "stream",
     "text": [
      "2022-05-25 22:20:40.274054: I tensorflow/core/grappler/optimizers/custom_graph_optimizer_registry.cc:112] Plugin optimizer for device_type GPU is enabled.\n"
     ]
    },
    {
     "name": "stdout",
     "output_type": "stream",
     "text": [
      "Scaled (150, 299, 299, 3) (404, 299, 299, 3)\n",
      "Scaled range for generated 63.842464 193.58672\n",
      "Scaled range for real 0.0 255.0\n",
      "Scaled range for generated -0.4992748 0.51832724\n",
      "Scaled range for real -1.0 1.0\n",
      ">>FID: 478.088\n",
      "--------------------------------------------------\n",
      "CPU times: user 52.1 s, sys: 10.9 s, total: 1min 3s\n",
      "Wall time: 13.2 s\n"
     ]
    }
   ],
   "source": [
    "%%time\n",
    "fid_score_display(\"/Users/miquel43/Documents/TFG/NUEVOS RESULTADOS EXPERIMENTACION - GAN (DISCO DURO Y FLORIDA)/DISCO_DURO_GAN_ADADELTA_DROPOUT_04_BATCH_SIZE_32/DD_GAN_ADADELTA_32_04_models/\", \"gan\", usf=False)"
   ]
  },
  {
   "cell_type": "markdown",
   "id": "06ca9975",
   "metadata": {},
   "source": [
    "#### Adadelta Batch Size 32 Dropout 0.5"
   ]
  },
  {
   "cell_type": "code",
   "execution_count": 39,
   "id": "34040444",
   "metadata": {},
   "outputs": [
    {
     "name": "stdout",
     "output_type": "stream",
     "text": [
      "WARNING:tensorflow:No training configuration found in the save file, so the model was *not* compiled. Compile it manually.\n",
      "Latent dimension: 32\n"
     ]
    },
    {
     "name": "stderr",
     "output_type": "stream",
     "text": [
      "2022-05-25 22:20:53.626506: I tensorflow/core/grappler/optimizers/custom_graph_optimizer_registry.cc:112] Plugin optimizer for device_type GPU is enabled.\n"
     ]
    },
    {
     "name": "stdout",
     "output_type": "stream",
     "text": [
      "Scaled (150, 299, 299, 3) (404, 299, 299, 3)\n",
      "Scaled range for generated 73.6528 189.39574\n",
      "Scaled range for real 0.0 255.0\n",
      "Scaled range for generated -0.42233098 0.4854567\n",
      "Scaled range for real -1.0 1.0\n",
      ">>FID: 444.362\n",
      "--------------------------------------------------\n",
      "CPU times: user 51.6 s, sys: 10.4 s, total: 1min 1s\n",
      "Wall time: 13 s\n"
     ]
    }
   ],
   "source": [
    "%%time\n",
    "fid_score_display(\"/Users/miquel43/Documents/TFG/NUEVOS RESULTADOS EXPERIMENTACION - GAN (DISCO DURO Y FLORIDA)/DISCO_DURO_GAN_ADADELTA_DROPOUT_05_BATCH_SIZE_32/DD_GAN_ADADELTA_32_05_models/\", \"gan\", usf=False)"
   ]
  },
  {
   "cell_type": "markdown",
   "id": "b040ae10",
   "metadata": {},
   "source": [
    "#### Adadelta Batch Size 32 Dropout 0.6"
   ]
  },
  {
   "cell_type": "code",
   "execution_count": 40,
   "id": "4ea8c7ef",
   "metadata": {},
   "outputs": [
    {
     "name": "stdout",
     "output_type": "stream",
     "text": [
      "WARNING:tensorflow:No training configuration found in the save file, so the model was *not* compiled. Compile it manually.\n",
      "Latent dimension: 32\n"
     ]
    },
    {
     "name": "stderr",
     "output_type": "stream",
     "text": [
      "2022-05-25 22:21:07.888897: I tensorflow/core/grappler/optimizers/custom_graph_optimizer_registry.cc:112] Plugin optimizer for device_type GPU is enabled.\n"
     ]
    },
    {
     "name": "stdout",
     "output_type": "stream",
     "text": [
      "Scaled (150, 299, 299, 3) (404, 299, 299, 3)\n",
      "Scaled range for generated 83.391205 174.03685\n",
      "Scaled range for real 0.0 255.0\n",
      "Scaled range for generated -0.34595132 0.36499488\n",
      "Scaled range for real -1.0 1.0\n",
      ">>FID: 419.815\n",
      "--------------------------------------------------\n",
      "CPU times: user 55.5 s, sys: 12.1 s, total: 1min 7s\n",
      "Wall time: 14.1 s\n"
     ]
    }
   ],
   "source": [
    "%%time\n",
    "fid_score_display(\"/Users/miquel43/Documents/TFG/NUEVOS RESULTADOS EXPERIMENTACION - GAN (DISCO DURO Y FLORIDA)/DISCO_DURO_GAN_ADADELTA_DROPOUT_06_BATCH_SIZE_32/DD_GAN_ADADELTA_32_06_models/\", \"gan\", usf=False)"
   ]
  },
  {
   "cell_type": "markdown",
   "id": "36c83de3",
   "metadata": {},
   "source": [
    "#### RMSprop Batch Size 32 Dropout 0.4 Learning Rate 0.0004"
   ]
  },
  {
   "cell_type": "code",
   "execution_count": 42,
   "id": "77a4dcf5",
   "metadata": {},
   "outputs": [
    {
     "name": "stdout",
     "output_type": "stream",
     "text": [
      "WARNING:tensorflow:No training configuration found in the save file, so the model was *not* compiled. Compile it manually.\n",
      "Latent dimension: 32\n"
     ]
    },
    {
     "name": "stderr",
     "output_type": "stream",
     "text": [
      "2022-05-25 22:22:03.287115: I tensorflow/core/grappler/optimizers/custom_graph_optimizer_registry.cc:112] Plugin optimizer for device_type GPU is enabled.\n"
     ]
    },
    {
     "name": "stdout",
     "output_type": "stream",
     "text": [
      "Scaled (150, 299, 299, 3) (404, 299, 299, 3)\n",
      "Scaled range for generated 0.0 254.99998\n",
      "Scaled range for real 0.0 255.0\n",
      "Scaled range for generated -1.0 0.9999999\n",
      "Scaled range for real -1.0 1.0\n",
      ">>FID: 371.663\n",
      "--------------------------------------------------\n",
      "CPU times: user 59.1 s, sys: 12.6 s, total: 1min 11s\n",
      "Wall time: 14.5 s\n"
     ]
    }
   ],
   "source": [
    "%%time\n",
    "fid_score_display(\"/Users/miquel43/Documents/TFG/NUEVOS RESULTADOS EXPERIMENTACION - GAN (DISCO DURO Y FLORIDA)/DISCO_DURO_GAN_RMSPROP_DROPOUT_04_BATCH_SIZE_32_LR_04/DD_GAN_RMSPROP_32_04_LR_04_models/\", \"gan\", usf=False)"
   ]
  },
  {
   "cell_type": "markdown",
   "id": "2d1ae505",
   "metadata": {},
   "source": [
    "#### RMSprop Batch Size 32 Dropout 0.4 Learning Rate 0.001"
   ]
  },
  {
   "cell_type": "code",
   "execution_count": 43,
   "id": "24a85c3f",
   "metadata": {},
   "outputs": [
    {
     "name": "stdout",
     "output_type": "stream",
     "text": [
      "WARNING:tensorflow:No training configuration found in the save file, so the model was *not* compiled. Compile it manually.\n",
      "Latent dimension: 32\n"
     ]
    },
    {
     "name": "stderr",
     "output_type": "stream",
     "text": [
      "2022-05-25 22:22:17.766714: I tensorflow/core/grappler/optimizers/custom_graph_optimizer_registry.cc:112] Plugin optimizer for device_type GPU is enabled.\n"
     ]
    },
    {
     "name": "stdout",
     "output_type": "stream",
     "text": [
      "Scaled (150, 299, 299, 3) (404, 299, 299, 3)\n",
      "Scaled range for generated 0.0 255.0\n",
      "Scaled range for real 0.0 255.0\n",
      "Scaled range for generated -1.0 1.0\n",
      "Scaled range for real -1.0 1.0\n",
      ">>FID: 330.344\n",
      "--------------------------------------------------\n",
      "CPU times: user 56.1 s, sys: 12.2 s, total: 1min 8s\n",
      "Wall time: 13.8 s\n"
     ]
    }
   ],
   "source": [
    "%%time\n",
    "fid_score_display(\"/Users/miquel43/Documents/TFG/NUEVOS RESULTADOS EXPERIMENTACION - GAN (DISCO DURO Y FLORIDA)/DISCO_DURO_GAN_RMSPROP_DROPOUT_04_BATCH_SIZE_32_LR_01/DD_GAN_RMSPROP_32_04_LR_01_models/\", \"gan\", usf=False)"
   ]
  },
  {
   "cell_type": "markdown",
   "id": "211c149a",
   "metadata": {},
   "source": [
    "## <font color='red'>DCGAN</font> "
   ]
  },
  {
   "cell_type": "markdown",
   "id": "bf36d681",
   "metadata": {},
   "source": [
    "### MAMMI SOUTH FLORIDA"
   ]
  },
  {
   "cell_type": "markdown",
   "id": "38711d5f",
   "metadata": {},
   "source": [
    "#### RMSprop Batch Size 128 Dropout 0.4"
   ]
  },
  {
   "cell_type": "code",
   "execution_count": 9,
   "id": "c120da9e",
   "metadata": {},
   "outputs": [
    {
     "name": "stdout",
     "output_type": "stream",
     "text": [
      "WARNING:tensorflow:No training configuration found in the save file, so the model was *not* compiled. Compile it manually.\n",
      "Latent dimension: 32\n"
     ]
    },
    {
     "name": "stderr",
     "output_type": "stream",
     "text": [
      "2022-05-21 12:10:32.926505: I tensorflow/compiler/mlir/mlir_graph_optimization_pass.cc:185] None of the MLIR Optimization Passes are enabled (registered 2)\n",
      "2022-05-21 12:10:32.929507: W tensorflow/core/platform/profile_utils/cpu_utils.cc:128] Failed to get CPU frequency: 0 Hz\n",
      "2022-05-21 12:10:32.996283: I tensorflow/core/grappler/optimizers/custom_graph_optimizer_registry.cc:112] Plugin optimizer for device_type GPU is enabled.\n"
     ]
    },
    {
     "name": "stdout",
     "output_type": "stream",
     "text": [
      "Scaled (1000, 299, 299, 3) (2615, 299, 299, 3)\n",
      "Scaled range for generated 127.50259 234.03592\n",
      "Scaled range for real 0.0 255.0\n",
      "Scaled range for generated 2.026558e-05 0.8355758\n",
      "Scaled range for real -1.0 1.0\n"
     ]
    },
    {
     "name": "stderr",
     "output_type": "stream",
     "text": [
      "2022-05-21 12:10:50.741964: I tensorflow/core/grappler/optimizers/custom_graph_optimizer_registry.cc:112] Plugin optimizer for device_type GPU is enabled.\n"
     ]
    },
    {
     "name": "stdout",
     "output_type": "stream",
     "text": [
      ">>FID: 268.841\n",
      "--------------------------------------------------\n",
      "CPU times: user 1min 1s, sys: 18.6 s, total: 1min 20s\n",
      "Wall time: 49.7 s\n"
     ]
    }
   ],
   "source": [
    "%%time\n",
    "fid_score_display(\"/Users/miquel43/Documents/TFG/NUEVOS RESULTADOS EXPERIMENTACION - DCGAN (DISCO DURO Y FLORIDA)/DCGAN_RMSPROP_DROPOUT_04_BATCH_SIZE_128/DCGAN_RMSPROP_128_04_models/\", \"dcgan\", usf=True)"
   ]
  },
  {
   "cell_type": "markdown",
   "id": "fc68f2f2",
   "metadata": {},
   "source": [
    "#### RMSprop Batch Size 64 Dropout 0.4"
   ]
  },
  {
   "cell_type": "code",
   "execution_count": 10,
   "id": "7a6ae61f",
   "metadata": {},
   "outputs": [
    {
     "name": "stdout",
     "output_type": "stream",
     "text": [
      "WARNING:tensorflow:No training configuration found in the save file, so the model was *not* compiled. Compile it manually.\n",
      "Latent dimension: 32\n"
     ]
    },
    {
     "name": "stderr",
     "output_type": "stream",
     "text": [
      "2022-05-21 12:14:16.554013: I tensorflow/core/grappler/optimizers/custom_graph_optimizer_registry.cc:112] Plugin optimizer for device_type GPU is enabled.\n"
     ]
    },
    {
     "name": "stdout",
     "output_type": "stream",
     "text": [
      "Scaled (1000, 299, 299, 3) (2615, 299, 299, 3)\n",
      "Scaled range for generated 127.5 246.2461\n",
      "Scaled range for real 0.0 255.0\n",
      "Scaled range for generated 0.0 0.9313419\n",
      "Scaled range for real -1.0 1.0\n",
      ">>FID: 261.559\n",
      "--------------------------------------------------\n",
      "CPU times: user 1min 6s, sys: 18.3 s, total: 1min 24s\n",
      "Wall time: 45.3 s\n"
     ]
    }
   ],
   "source": [
    "%%time\n",
    "fid_score_display(\"/Users/miquel43/Documents/TFG/NUEVOS RESULTADOS EXPERIMENTACION - DCGAN (DISCO DURO Y FLORIDA)/DCGAN_RMSPROP_DROPOUT_04_BATCH_SIZE_64/DCGAN_RMSPROP_64_04_models/\", \"dcgan\", usf=True)"
   ]
  },
  {
   "cell_type": "markdown",
   "id": "a201be4a",
   "metadata": {},
   "source": [
    "#### RMSprop Batch Size 32 Dropout 0.4"
   ]
  },
  {
   "cell_type": "code",
   "execution_count": 11,
   "id": "107963cb",
   "metadata": {},
   "outputs": [
    {
     "name": "stdout",
     "output_type": "stream",
     "text": [
      "WARNING:tensorflow:No training configuration found in the save file, so the model was *not* compiled. Compile it manually.\n",
      "Latent dimension: 32\n"
     ]
    },
    {
     "name": "stderr",
     "output_type": "stream",
     "text": [
      "2022-05-21 12:19:44.588929: I tensorflow/core/grappler/optimizers/custom_graph_optimizer_registry.cc:112] Plugin optimizer for device_type GPU is enabled.\n"
     ]
    },
    {
     "name": "stdout",
     "output_type": "stream",
     "text": [
      "Scaled (1000, 299, 299, 3) (2615, 299, 299, 3)\n",
      "Scaled range for generated 127.5 233.46071\n",
      "Scaled range for real 0.0 255.0\n",
      "Scaled range for generated 0.0 0.83106434\n",
      "Scaled range for real -1.0 1.0\n",
      ">>FID: 245.455\n",
      "--------------------------------------------------\n",
      "CPU times: user 1min 16s, sys: 33.8 s, total: 1min 49s\n",
      "Wall time: 51.2 s\n"
     ]
    }
   ],
   "source": [
    "%%time\n",
    "fid_score_display(\"/Users/miquel43/Documents/TFG/NUEVOS RESULTADOS EXPERIMENTACION - DCGAN (DISCO DURO Y FLORIDA)/DCGAN_RMSPROP_DROPOUT_04_BATCH_SIZE_32/DCGAN_RMSPROP_32_04_models/\", \"dcgan\", usf=True)"
   ]
  },
  {
   "cell_type": "markdown",
   "id": "d84ed00f",
   "metadata": {},
   "source": [
    "#### RMSprop Batch Size 16 Dropout 0.4"
   ]
  },
  {
   "cell_type": "code",
   "execution_count": 12,
   "id": "46cafcbb",
   "metadata": {},
   "outputs": [
    {
     "name": "stdout",
     "output_type": "stream",
     "text": [
      "WARNING:tensorflow:No training configuration found in the save file, so the model was *not* compiled. Compile it manually.\n",
      "Latent dimension: 32\n"
     ]
    },
    {
     "name": "stderr",
     "output_type": "stream",
     "text": [
      "2022-05-21 12:23:08.006169: I tensorflow/core/grappler/optimizers/custom_graph_optimizer_registry.cc:112] Plugin optimizer for device_type GPU is enabled.\n"
     ]
    },
    {
     "name": "stdout",
     "output_type": "stream",
     "text": [
      "Scaled (1000, 299, 299, 3) (2615, 299, 299, 3)\n",
      "Scaled range for generated 127.5 249.39201\n",
      "Scaled range for real 0.0 255.0\n",
      "Scaled range for generated 0.0 0.9560158\n",
      "Scaled range for real -1.0 1.0\n",
      ">>FID: 270.083\n",
      "--------------------------------------------------\n",
      "CPU times: user 1min 4s, sys: 32.9 s, total: 1min 37s\n",
      "Wall time: 50 s\n"
     ]
    }
   ],
   "source": [
    "%%time\n",
    "fid_score_display(\"/Users/miquel43/Documents/TFG/NUEVOS RESULTADOS EXPERIMENTACION - DCGAN (DISCO DURO Y FLORIDA)/DCGAN_RMSPROP_DROPOUT_04_BATCH_SIZE_16/DCGAN_RMSPROP_16_04_models/\", \"dcgan\", usf=True)"
   ]
  },
  {
   "cell_type": "markdown",
   "id": "68f7aab5",
   "metadata": {},
   "source": [
    "#### RMSprop Batch Size 64 Dropout 0.5"
   ]
  },
  {
   "cell_type": "code",
   "execution_count": 13,
   "id": "a737869f",
   "metadata": {},
   "outputs": [
    {
     "name": "stdout",
     "output_type": "stream",
     "text": [
      "WARNING:tensorflow:No training configuration found in the save file, so the model was *not* compiled. Compile it manually.\n",
      "Latent dimension: 32\n"
     ]
    },
    {
     "name": "stderr",
     "output_type": "stream",
     "text": [
      "2022-05-21 12:24:36.965722: I tensorflow/core/grappler/optimizers/custom_graph_optimizer_registry.cc:112] Plugin optimizer for device_type GPU is enabled.\n"
     ]
    },
    {
     "name": "stdout",
     "output_type": "stream",
     "text": [
      "Scaled (1000, 299, 299, 3) (2615, 299, 299, 3)\n",
      "Scaled range for generated 127.50076 225.76144\n",
      "Scaled range for real 0.0 255.0\n",
      "Scaled range for generated 5.9604645e-06 0.77067804\n",
      "Scaled range for real -1.0 1.0\n",
      ">>FID: 344.163\n",
      "--------------------------------------------------\n",
      "CPU times: user 1min 5s, sys: 32.1 s, total: 1min 37s\n",
      "Wall time: 47.6 s\n"
     ]
    }
   ],
   "source": [
    "%%time\n",
    "fid_score_display(\"/Users/miquel43/Documents/TFG/NUEVOS RESULTADOS EXPERIMENTACION - DCGAN (DISCO DURO Y FLORIDA)/DCGAN_RMSPROP_DROPOUT_05_BATCH_SIZE_64/DCGAN_RMSPROP_64_05_models/\", \"dcgan\", usf=True)"
   ]
  },
  {
   "cell_type": "markdown",
   "id": "03974aa5",
   "metadata": {},
   "source": [
    "#### RMSprop Batch Size 64 Dropout 0.6"
   ]
  },
  {
   "cell_type": "code",
   "execution_count": 14,
   "id": "cb94dd55",
   "metadata": {},
   "outputs": [
    {
     "name": "stdout",
     "output_type": "stream",
     "text": [
      "WARNING:tensorflow:No training configuration found in the save file, so the model was *not* compiled. Compile it manually.\n",
      "Latent dimension: 32\n"
     ]
    },
    {
     "name": "stderr",
     "output_type": "stream",
     "text": [
      "2022-05-21 12:26:35.325006: I tensorflow/core/grappler/optimizers/custom_graph_optimizer_registry.cc:112] Plugin optimizer for device_type GPU is enabled.\n"
     ]
    },
    {
     "name": "stdout",
     "output_type": "stream",
     "text": [
      "Scaled (1000, 299, 299, 3) (2615, 299, 299, 3)\n",
      "Scaled range for generated 127.5 250.55734\n",
      "Scaled range for real 0.0 255.0\n",
      "Scaled range for generated 0.0 0.9651556\n",
      "Scaled range for real -1.0 1.0\n",
      ">>FID: 319.923\n",
      "--------------------------------------------------\n",
      "CPU times: user 1min 8s, sys: 32.3 s, total: 1min 41s\n",
      "Wall time: 48.5 s\n"
     ]
    }
   ],
   "source": [
    "%%time\n",
    "fid_score_display(\"/Users/miquel43/Documents/TFG/NUEVOS RESULTADOS EXPERIMENTACION - DCGAN (DISCO DURO Y FLORIDA)/DCGAN_RMSPROP_DROPOUT_06_BATCH_SIZE_64/DCGAN_RMSPROP_64_06_models/\", \"dcgan\", usf=True)"
   ]
  },
  {
   "cell_type": "markdown",
   "id": "ccc0b1be",
   "metadata": {},
   "source": [
    "#### Adam Batch Size 64 Dropout 0.4"
   ]
  },
  {
   "cell_type": "code",
   "execution_count": 15,
   "id": "2303111f",
   "metadata": {},
   "outputs": [
    {
     "name": "stdout",
     "output_type": "stream",
     "text": [
      "WARNING:tensorflow:No training configuration found in the save file, so the model was *not* compiled. Compile it manually.\n",
      "Latent dimension: 32\n"
     ]
    },
    {
     "name": "stderr",
     "output_type": "stream",
     "text": [
      "2022-05-21 12:28:20.905698: I tensorflow/core/grappler/optimizers/custom_graph_optimizer_registry.cc:112] Plugin optimizer for device_type GPU is enabled.\n"
     ]
    },
    {
     "name": "stdout",
     "output_type": "stream",
     "text": [
      "Scaled (1000, 299, 299, 3) (2615, 299, 299, 3)\n",
      "Scaled range for generated 127.500015 250.42046\n",
      "Scaled range for real 0.0 255.0\n",
      "Scaled range for generated 1.1920929e-07 0.964082\n",
      "Scaled range for real -1.0 1.0\n",
      ">>FID: 243.168\n",
      "--------------------------------------------------\n",
      "CPU times: user 1min 6s, sys: 33.5 s, total: 1min 40s\n",
      "Wall time: 48.7 s\n"
     ]
    }
   ],
   "source": [
    "%%time\n",
    "fid_score_display(\"/Users/miquel43/Documents/TFG/NUEVOS RESULTADOS EXPERIMENTACION - DCGAN (DISCO DURO Y FLORIDA)/DCGAN_ADAM_DROPOUT_04_BATCH_SIZE_64/DCGAN_ADAM_64_04_models/\", \"dcgan\", usf=True)"
   ]
  },
  {
   "cell_type": "markdown",
   "id": "169c9ed4",
   "metadata": {},
   "source": [
    "#### Adam Batch Size 64 Dropout 0.5"
   ]
  },
  {
   "cell_type": "code",
   "execution_count": 16,
   "id": "2589702e",
   "metadata": {},
   "outputs": [
    {
     "name": "stdout",
     "output_type": "stream",
     "text": [
      "WARNING:tensorflow:No training configuration found in the save file, so the model was *not* compiled. Compile it manually.\n",
      "Latent dimension: 32\n"
     ]
    },
    {
     "name": "stderr",
     "output_type": "stream",
     "text": [
      "2022-05-21 12:29:34.353752: I tensorflow/core/grappler/optimizers/custom_graph_optimizer_registry.cc:112] Plugin optimizer for device_type GPU is enabled.\n"
     ]
    },
    {
     "name": "stdout",
     "output_type": "stream",
     "text": [
      "Scaled (1000, 299, 299, 3) (2615, 299, 299, 3)\n",
      "Scaled range for generated 127.933174 229.611\n",
      "Scaled range for real 0.0 255.0\n",
      "Scaled range for generated 0.0033974648 0.80087054\n",
      "Scaled range for real -1.0 1.0\n",
      ">>FID: 372.165\n",
      "--------------------------------------------------\n",
      "CPU times: user 1min 6s, sys: 34.6 s, total: 1min 40s\n",
      "Wall time: 50 s\n"
     ]
    }
   ],
   "source": [
    "%%time\n",
    "fid_score_display(\"/Users/miquel43/Documents/TFG/NUEVOS RESULTADOS EXPERIMENTACION - DCGAN (DISCO DURO Y FLORIDA)/DCGAN_ADAM_DROPOUT_05_BATCH_SIZE_64/DCGAN_ADAM_64_05_models/\", \"dcgan\", usf=True)"
   ]
  },
  {
   "cell_type": "markdown",
   "id": "c7df2abc",
   "metadata": {},
   "source": [
    "#### Adam Batch Size 64 Dropout 0.6"
   ]
  },
  {
   "cell_type": "code",
   "execution_count": 17,
   "id": "5081ef7d",
   "metadata": {},
   "outputs": [
    {
     "name": "stdout",
     "output_type": "stream",
     "text": [
      "WARNING:tensorflow:No training configuration found in the save file, so the model was *not* compiled. Compile it manually.\n",
      "Latent dimension: 32\n"
     ]
    },
    {
     "name": "stderr",
     "output_type": "stream",
     "text": [
      "2022-05-21 12:30:48.080589: I tensorflow/core/grappler/optimizers/custom_graph_optimizer_registry.cc:112] Plugin optimizer for device_type GPU is enabled.\n"
     ]
    },
    {
     "name": "stdout",
     "output_type": "stream",
     "text": [
      "Scaled (1000, 299, 299, 3) (2615, 299, 299, 3)\n",
      "Scaled range for generated 127.50081 254.6841\n",
      "Scaled range for real 0.0 255.0\n",
      "Scaled range for generated 6.3180923e-06 0.99752235\n",
      "Scaled range for real -1.0 1.0\n",
      ">>FID: 271.761\n",
      "--------------------------------------------------\n",
      "CPU times: user 1min 13s, sys: 34.5 s, total: 1min 48s\n",
      "Wall time: 49.8 s\n"
     ]
    }
   ],
   "source": [
    "%%time\n",
    "fid_score_display(\"/Users/miquel43/Documents/TFG/NUEVOS RESULTADOS EXPERIMENTACION - DCGAN (DISCO DURO Y FLORIDA)/DCGAN_ADAM_DROPOUT_06_BATCH_SIZE_64/DCGAN_ADAM_64_06_models/\", \"dcgan\", usf=True)"
   ]
  },
  {
   "cell_type": "markdown",
   "id": "359ac410",
   "metadata": {},
   "source": [
    "#### Adadelta Batch Size 64 Dropout 0.4"
   ]
  },
  {
   "cell_type": "code",
   "execution_count": 18,
   "id": "96b8d964",
   "metadata": {},
   "outputs": [
    {
     "name": "stdout",
     "output_type": "stream",
     "text": [
      "WARNING:tensorflow:No training configuration found in the save file, so the model was *not* compiled. Compile it manually.\n",
      "Latent dimension: 32\n"
     ]
    },
    {
     "name": "stderr",
     "output_type": "stream",
     "text": [
      "2022-05-21 12:32:11.770747: I tensorflow/core/grappler/optimizers/custom_graph_optimizer_registry.cc:112] Plugin optimizer for device_type GPU is enabled.\n"
     ]
    },
    {
     "name": "stdout",
     "output_type": "stream",
     "text": [
      "Scaled (1000, 299, 299, 3) (2615, 299, 299, 3)\n",
      "Scaled range for generated 127.50008 192.86972\n",
      "Scaled range for real 0.0 255.0\n",
      "Scaled range for generated 5.9604645e-07 0.51270366\n",
      "Scaled range for real -1.0 1.0\n",
      ">>FID: 374.205\n",
      "--------------------------------------------------\n",
      "CPU times: user 1min 3s, sys: 16.9 s, total: 1min 20s\n",
      "Wall time: 43.6 s\n"
     ]
    }
   ],
   "source": [
    "%%time\n",
    "fid_score_display(\"/Users/miquel43/Documents/TFG/NUEVOS RESULTADOS EXPERIMENTACION - DCGAN (DISCO DURO Y FLORIDA)/DCGAN_ADADELTA_DROPOUT_04_BATCH_SIZE_64/DCGAN_ADADELTA_64_04_models/\", \"dcgan\", usf=True)"
   ]
  },
  {
   "cell_type": "markdown",
   "id": "de0ce67a",
   "metadata": {},
   "source": [
    "#### Adadelta Batch Size 64 Dropout 0.5"
   ]
  },
  {
   "cell_type": "code",
   "execution_count": 19,
   "id": "5422cabc",
   "metadata": {},
   "outputs": [
    {
     "name": "stdout",
     "output_type": "stream",
     "text": [
      "WARNING:tensorflow:No training configuration found in the save file, so the model was *not* compiled. Compile it manually.\n",
      "Latent dimension: 32\n"
     ]
    },
    {
     "name": "stderr",
     "output_type": "stream",
     "text": [
      "2022-05-21 12:35:17.719843: I tensorflow/core/grappler/optimizers/custom_graph_optimizer_registry.cc:112] Plugin optimizer for device_type GPU is enabled.\n"
     ]
    },
    {
     "name": "stdout",
     "output_type": "stream",
     "text": [
      "Scaled (1000, 299, 299, 3) (2615, 299, 299, 3)\n",
      "Scaled range for generated 127.50087 197.64928\n",
      "Scaled range for real 0.0 255.0\n",
      "Scaled range for generated 6.7949295e-06 0.55019045\n",
      "Scaled range for real -1.0 1.0\n",
      ">>FID: 348.309\n",
      "--------------------------------------------------\n",
      "CPU times: user 1min 12s, sys: 17.4 s, total: 1min 30s\n",
      "Wall time: 46.2 s\n"
     ]
    }
   ],
   "source": [
    "%%time\n",
    "fid_score_display(\"/Users/miquel43/Documents/TFG/NUEVOS RESULTADOS EXPERIMENTACION - DCGAN (DISCO DURO Y FLORIDA)/DCGAN_ADADELTA_DROPOUT_05_BATCH_SIZE_64/DCGAN_ADADELTA_64_05_models/\", \"dcgan\", usf=True)"
   ]
  },
  {
   "cell_type": "markdown",
   "id": "78785c04",
   "metadata": {},
   "source": [
    "#### Adadelta Batch Size 64 Dropout 0.6"
   ]
  },
  {
   "cell_type": "code",
   "execution_count": 20,
   "id": "80f6970e",
   "metadata": {},
   "outputs": [
    {
     "name": "stdout",
     "output_type": "stream",
     "text": [
      "WARNING:tensorflow:No training configuration found in the save file, so the model was *not* compiled. Compile it manually.\n",
      "Latent dimension: 32\n"
     ]
    },
    {
     "name": "stderr",
     "output_type": "stream",
     "text": [
      "2022-05-21 12:39:05.739071: I tensorflow/core/grappler/optimizers/custom_graph_optimizer_registry.cc:112] Plugin optimizer for device_type GPU is enabled.\n"
     ]
    },
    {
     "name": "stdout",
     "output_type": "stream",
     "text": [
      "Scaled (1000, 299, 299, 3) (2615, 299, 299, 3)\n",
      "Scaled range for generated 127.51301 211.51726\n",
      "Scaled range for real 0.0 255.0\n",
      "Scaled range for generated 0.00010204315 0.6589589\n",
      "Scaled range for real -1.0 1.0\n",
      ">>FID: 451.659\n",
      "--------------------------------------------------\n",
      "CPU times: user 1min 7s, sys: 18.8 s, total: 1min 26s\n",
      "Wall time: 46.1 s\n"
     ]
    }
   ],
   "source": [
    "%%time\n",
    "fid_score_display(\"/Users/miquel43/Documents/TFG/NUEVOS RESULTADOS EXPERIMENTACION - DCGAN (DISCO DURO Y FLORIDA)/DCGAN_ADADELTA_DROPOUT_06_BATCH_SIZE_64/DCGAN_ADADELTA_64_06_models/\", \"dcgan\", usf=True)"
   ]
  },
  {
   "cell_type": "markdown",
   "id": "44982b3a",
   "metadata": {},
   "source": [
    "#### RMSprop Batch Size 64 Dropout 0.4 Learning Rate 0.0004"
   ]
  },
  {
   "cell_type": "code",
   "execution_count": 21,
   "id": "f12916de",
   "metadata": {},
   "outputs": [
    {
     "name": "stdout",
     "output_type": "stream",
     "text": [
      "WARNING:tensorflow:No training configuration found in the save file, so the model was *not* compiled. Compile it manually.\n",
      "Latent dimension: 32\n"
     ]
    },
    {
     "name": "stderr",
     "output_type": "stream",
     "text": [
      "2022-05-21 12:45:59.708670: I tensorflow/core/grappler/optimizers/custom_graph_optimizer_registry.cc:112] Plugin optimizer for device_type GPU is enabled.\n"
     ]
    },
    {
     "name": "stdout",
     "output_type": "stream",
     "text": [
      "Scaled (1000, 299, 299, 3) (2615, 299, 299, 3)\n",
      "Scaled range for generated 127.50003 250.73502\n",
      "Scaled range for real 0.0 255.0\n",
      "Scaled range for generated 2.3841858e-07 0.96654916\n",
      "Scaled range for real -1.0 1.0\n",
      ">>FID: 232.726\n",
      "--------------------------------------------------\n",
      "CPU times: user 1min 5s, sys: 26.1 s, total: 1min 31s\n",
      "Wall time: 49.3 s\n"
     ]
    }
   ],
   "source": [
    "%%time\n",
    "fid_score_display(\"/Users/miquel43/Documents/TFG/NUEVOS RESULTADOS EXPERIMENTACION - DCGAN (DISCO DURO Y FLORIDA)/DCGAN_RMSPROP_DROPOUT_04_BATCH_SIZE_64_LR_00004/DCGAN_RMSPROP_64_04_LR_04_models/\", \"dcgan\", usf=True)"
   ]
  },
  {
   "cell_type": "markdown",
   "id": "8a00bc89",
   "metadata": {},
   "source": [
    "#### RMSprop Batch Size 64 Dropout 0.4 Learning Rate 0.001"
   ]
  },
  {
   "cell_type": "code",
   "execution_count": 22,
   "id": "d0d4289e",
   "metadata": {},
   "outputs": [
    {
     "name": "stdout",
     "output_type": "stream",
     "text": [
      "WARNING:tensorflow:No training configuration found in the save file, so the model was *not* compiled. Compile it manually.\n",
      "Latent dimension: 32\n"
     ]
    },
    {
     "name": "stderr",
     "output_type": "stream",
     "text": [
      "2022-05-21 12:48:13.825541: I tensorflow/core/grappler/optimizers/custom_graph_optimizer_registry.cc:112] Plugin optimizer for device_type GPU is enabled.\n"
     ]
    },
    {
     "name": "stdout",
     "output_type": "stream",
     "text": [
      "Scaled (1000, 299, 299, 3) (2615, 299, 299, 3)\n",
      "Scaled range for generated 127.5 223.0705\n",
      "Scaled range for real 0.0 255.0\n",
      "Scaled range for generated 0.0 0.7495725\n",
      "Scaled range for real -1.0 1.0\n",
      ">>FID: 242.926\n",
      "--------------------------------------------------\n",
      "CPU times: user 1min 6s, sys: 19.6 s, total: 1min 26s\n",
      "Wall time: 45 s\n"
     ]
    }
   ],
   "source": [
    "%%time\n",
    "fid_score_display(\"/Users/miquel43/Documents/TFG/NUEVOS RESULTADOS EXPERIMENTACION - DCGAN (DISCO DURO Y FLORIDA)/DCGAN_RMSPROP_DROPOUT_04_BATCH_SIZE_64_LR_0001/DCGAN_RMSPROP_64_04_LR_01_models/\", \"dcgan\", usf=True)"
   ]
  },
  {
   "cell_type": "markdown",
   "id": "78f3b615",
   "metadata": {},
   "source": [
    "### DISCO DURO"
   ]
  },
  {
   "cell_type": "markdown",
   "id": "52f811bb",
   "metadata": {},
   "source": [
    "#### RMSprop Batch Size 32 Dropout 0.4"
   ]
  },
  {
   "cell_type": "code",
   "execution_count": 24,
   "id": "44d5852b",
   "metadata": {},
   "outputs": [
    {
     "name": "stdout",
     "output_type": "stream",
     "text": [
      "WARNING:tensorflow:No training configuration found in the save file, so the model was *not* compiled. Compile it manually.\n",
      "Latent dimension: 32\n"
     ]
    },
    {
     "name": "stderr",
     "output_type": "stream",
     "text": [
      "2022-05-21 12:56:55.533452: I tensorflow/core/grappler/optimizers/custom_graph_optimizer_registry.cc:112] Plugin optimizer for device_type GPU is enabled.\n"
     ]
    },
    {
     "name": "stdout",
     "output_type": "stream",
     "text": [
      "Scaled (150, 299, 299, 3) (404, 299, 299, 3)\n",
      "Scaled range for generated 129.16623 254.8965\n",
      "Scaled range for real 0.0 255.0\n",
      "Scaled range for generated 0.013068438 0.9991882\n",
      "Scaled range for real -1.0 1.0\n",
      ">>FID: 219.420\n",
      "--------------------------------------------------\n",
      "CPU times: user 55.4 s, sys: 13.2 s, total: 1min 8s\n",
      "Wall time: 15.1 s\n"
     ]
    }
   ],
   "source": [
    "%%time\n",
    "fid_score_display(\"/Users/miquel43/Documents/TFG/NUEVOS RESULTADOS EXPERIMENTACION - DCGAN (DISCO DURO Y FLORIDA)/DISCO_DURO_DCGAN_RMSPROP_DROPOUT_04_BATCH_SIZE_32/DD_DCGAN_RMSPROP_32_04_models/\", \"dcgan\", usf=False)"
   ]
  },
  {
   "cell_type": "markdown",
   "id": "ad110ee1",
   "metadata": {},
   "source": [
    "#### RMSprop Batch Size 16 Dropout 0.4"
   ]
  },
  {
   "cell_type": "code",
   "execution_count": 23,
   "id": "42c7fc0c",
   "metadata": {},
   "outputs": [
    {
     "name": "stdout",
     "output_type": "stream",
     "text": [
      "WARNING:tensorflow:No training configuration found in the save file, so the model was *not* compiled. Compile it manually.\n",
      "Latent dimension: 32\n"
     ]
    },
    {
     "name": "stderr",
     "output_type": "stream",
     "text": [
      "2022-06-12 10:00:31.727935: I tensorflow/core/grappler/optimizers/custom_graph_optimizer_registry.cc:112] Plugin optimizer for device_type GPU is enabled.\n"
     ]
    },
    {
     "name": "stdout",
     "output_type": "stream",
     "text": [
      "Scaled (150, 299, 299, 3) (404, 299, 299, 3)\n",
      "Scaled range for generated 140.49133 249.85776\n",
      "Scaled range for real 0.0 255.0\n",
      "Scaled range for generated 0.10189283 0.95966864\n",
      "Scaled range for real -1.0 1.0\n",
      ">>FID: 224.051\n",
      "--------------------------------------------------\n",
      "CPU times: user 49.8 s, sys: 12.3 s, total: 1min 2s\n",
      "Wall time: 13.3 s\n"
     ]
    }
   ],
   "source": [
    "%%time\n",
    "fid_score_display(\"/Users/miquel43/Documents/TFG/NUEVOS RESULTADOS EXPERIMENTACION - DCGAN (DISCO DURO Y FLORIDA)/DISCO_DURO_DCGAN_RMSPROP_DROPOUT_04_BATCH_SIZE_16/DD_DCGAN_RMSPROP_16_04_models/\", \"dcgan\", usf=False)\n"
   ]
  },
  {
   "cell_type": "markdown",
   "id": "28febb18",
   "metadata": {},
   "source": [
    "#### RMSprop Batch Size 8 Dropout 0.4"
   ]
  },
  {
   "cell_type": "code",
   "execution_count": 26,
   "id": "74ac4235",
   "metadata": {},
   "outputs": [
    {
     "name": "stdout",
     "output_type": "stream",
     "text": [
      "WARNING:tensorflow:No training configuration found in the save file, so the model was *not* compiled. Compile it manually.\n",
      "Latent dimension: 32\n"
     ]
    },
    {
     "name": "stderr",
     "output_type": "stream",
     "text": [
      "2022-05-21 13:08:47.507312: I tensorflow/core/grappler/optimizers/custom_graph_optimizer_registry.cc:112] Plugin optimizer for device_type GPU is enabled.\n"
     ]
    },
    {
     "name": "stdout",
     "output_type": "stream",
     "text": [
      "Scaled (150, 299, 299, 3) (404, 299, 299, 3)\n",
      "Scaled range for generated 127.50257 253.05234\n",
      "Scaled range for real 0.0 255.0\n",
      "Scaled range for generated 2.014637e-05 0.98472416\n",
      "Scaled range for real -1.0 1.0\n",
      ">>FID: 289.900\n",
      "--------------------------------------------------\n",
      "CPU times: user 53.6 s, sys: 12.1 s, total: 1min 5s\n",
      "Wall time: 13.6 s\n"
     ]
    }
   ],
   "source": [
    "%%time\n",
    "fid_score_display(\"/Users/miquel43/Documents/TFG/NUEVOS RESULTADOS EXPERIMENTACION - DCGAN (DISCO DURO Y FLORIDA)/DISCO_DURO_DCGAN_RMSPROP_DROPOUT_04_BATCH_SIZE_8/DD_DCGAN_RMSPROP_8_04_models/\", \"dcgan\", usf=False)"
   ]
  },
  {
   "cell_type": "markdown",
   "id": "2ba8abd9",
   "metadata": {},
   "source": [
    "#### RMSprop Batch Size 32 Dropout 0.5"
   ]
  },
  {
   "cell_type": "code",
   "execution_count": 27,
   "id": "9d67c485",
   "metadata": {},
   "outputs": [
    {
     "name": "stdout",
     "output_type": "stream",
     "text": [
      "WARNING:tensorflow:No training configuration found in the save file, so the model was *not* compiled. Compile it manually.\n",
      "Latent dimension: 32\n"
     ]
    },
    {
     "name": "stderr",
     "output_type": "stream",
     "text": [
      "2022-05-21 13:09:03.573394: I tensorflow/core/grappler/optimizers/custom_graph_optimizer_registry.cc:112] Plugin optimizer for device_type GPU is enabled.\n"
     ]
    },
    {
     "name": "stdout",
     "output_type": "stream",
     "text": [
      "Scaled (150, 299, 299, 3) (404, 299, 299, 3)\n",
      "Scaled range for generated 130.31604 236.61649\n",
      "Scaled range for real 0.0 255.0\n",
      "Scaled range for generated 0.02208662 0.85581553\n",
      "Scaled range for real -1.0 1.0\n",
      ">>FID: 345.329\n",
      "--------------------------------------------------\n",
      "CPU times: user 60 s, sys: 13.8 s, total: 1min 13s\n",
      "Wall time: 15.3 s\n"
     ]
    }
   ],
   "source": [
    "%%time\n",
    "fid_score_display(\"/Users/miquel43/Documents/TFG/NUEVOS RESULTADOS EXPERIMENTACION - DCGAN (DISCO DURO Y FLORIDA)/DISCO_DURO_DCGAN_RMSPROP_DROPOUT_05_BATCH_SIZE_32/DD_DCGAN_RMSPROP_32_05_models/\", \"dcgan\", usf=False)"
   ]
  },
  {
   "cell_type": "markdown",
   "id": "9d493657",
   "metadata": {},
   "source": [
    "#### RMSprop Batch Size 32 Dropout 0.6"
   ]
  },
  {
   "cell_type": "code",
   "execution_count": 28,
   "id": "f56e0077",
   "metadata": {},
   "outputs": [
    {
     "name": "stdout",
     "output_type": "stream",
     "text": [
      "WARNING:tensorflow:No training configuration found in the save file, so the model was *not* compiled. Compile it manually.\n",
      "Latent dimension: 32\n"
     ]
    },
    {
     "name": "stderr",
     "output_type": "stream",
     "text": [
      "2022-05-21 13:09:18.915207: I tensorflow/core/grappler/optimizers/custom_graph_optimizer_registry.cc:112] Plugin optimizer for device_type GPU is enabled.\n"
     ]
    },
    {
     "name": "stdout",
     "output_type": "stream",
     "text": [
      "Scaled (150, 299, 299, 3) (404, 299, 299, 3)\n",
      "Scaled range for generated 129.80994 221.65602\n",
      "Scaled range for real 0.0 255.0\n",
      "Scaled range for generated 0.01811719 0.73847854\n",
      "Scaled range for real -1.0 1.0\n",
      ">>FID: 294.231\n",
      "--------------------------------------------------\n",
      "CPU times: user 59.3 s, sys: 15.9 s, total: 1min 15s\n",
      "Wall time: 15.1 s\n"
     ]
    }
   ],
   "source": [
    "%%time\n",
    "fid_score_display(\"/Users/miquel43/Documents/TFG/NUEVOS RESULTADOS EXPERIMENTACION - DCGAN (DISCO DURO Y FLORIDA)/DISCO_DURO_DCGAN_RMSPROP_DROPOUT_06_BATCH_SIZE_32/DD_DCGAN_RMSPROP_32_06_models/\", \"dcgan\", usf=False)"
   ]
  },
  {
   "cell_type": "markdown",
   "id": "7d84a734",
   "metadata": {},
   "source": [
    "#### Adam Batch Size 32 Dropout 0.4"
   ]
  },
  {
   "cell_type": "code",
   "execution_count": 29,
   "id": "5b681ac3",
   "metadata": {},
   "outputs": [
    {
     "name": "stdout",
     "output_type": "stream",
     "text": [
      "WARNING:tensorflow:No training configuration found in the save file, so the model was *not* compiled. Compile it manually.\n",
      "Latent dimension: 32\n"
     ]
    },
    {
     "name": "stderr",
     "output_type": "stream",
     "text": [
      "2022-05-21 13:09:34.054640: I tensorflow/core/grappler/optimizers/custom_graph_optimizer_registry.cc:112] Plugin optimizer for device_type GPU is enabled.\n"
     ]
    },
    {
     "name": "stdout",
     "output_type": "stream",
     "text": [
      "Scaled (150, 299, 299, 3) (404, 299, 299, 3)\n",
      "Scaled range for generated 158.44293 246.32549\n",
      "Scaled range for real 0.0 255.0\n",
      "Scaled range for generated 0.24268961 0.93196464\n",
      "Scaled range for real -1.0 1.0\n",
      ">>FID: 354.287\n",
      "--------------------------------------------------\n",
      "CPU times: user 54.2 s, sys: 13.4 s, total: 1min 7s\n",
      "Wall time: 13.9 s\n"
     ]
    }
   ],
   "source": [
    "%%time\n",
    "fid_score_display(\"/Users/miquel43/Documents/TFG/NUEVOS RESULTADOS EXPERIMENTACION - DCGAN (DISCO DURO Y FLORIDA)/DISCO_DURO_DCGAN_ADAM_DROPOUT_04_BATCH_SIZE_32/DD_DCGAN_ADAM_32_04_models/\", \"dcgan\", usf=False)"
   ]
  },
  {
   "cell_type": "markdown",
   "id": "9de5cd3f",
   "metadata": {},
   "source": [
    "#### Adam Batch Size 32 Dropout 0.5"
   ]
  },
  {
   "cell_type": "code",
   "execution_count": 30,
   "id": "24b866ee",
   "metadata": {},
   "outputs": [
    {
     "name": "stdout",
     "output_type": "stream",
     "text": [
      "WARNING:tensorflow:No training configuration found in the save file, so the model was *not* compiled. Compile it manually.\n",
      "Latent dimension: 32\n"
     ]
    },
    {
     "name": "stderr",
     "output_type": "stream",
     "text": [
      "2022-05-21 13:09:47.958368: I tensorflow/core/grappler/optimizers/custom_graph_optimizer_registry.cc:112] Plugin optimizer for device_type GPU is enabled.\n"
     ]
    },
    {
     "name": "stdout",
     "output_type": "stream",
     "text": [
      "Scaled (150, 299, 299, 3) (404, 299, 299, 3)\n",
      "Scaled range for generated 131.92062 254.69244\n",
      "Scaled range for real 0.0 255.0\n",
      "Scaled range for generated 0.034671545 0.9975878\n",
      "Scaled range for real -1.0 1.0\n",
      ">>FID: 345.195\n",
      "--------------------------------------------------\n",
      "CPU times: user 1min 3s, sys: 15.5 s, total: 1min 18s\n",
      "Wall time: 15.6 s\n"
     ]
    }
   ],
   "source": [
    "%%time\n",
    "fid_score_display(\"/Users/miquel43/Documents/TFG/NUEVOS RESULTADOS EXPERIMENTACION - DCGAN (DISCO DURO Y FLORIDA)/DISCO_DURO_DCGAN_ADAM_DROPOUT_05_BATCH_SIZE_32/DD_DCGAN_ADAM_32_05_models/\", \"dcgan\", usf=False)"
   ]
  },
  {
   "cell_type": "markdown",
   "id": "29f0721d",
   "metadata": {},
   "source": [
    "#### Adam Batch Size 32 Dropout 0.6"
   ]
  },
  {
   "cell_type": "code",
   "execution_count": 31,
   "id": "f6f11dcc",
   "metadata": {},
   "outputs": [
    {
     "name": "stdout",
     "output_type": "stream",
     "text": [
      "WARNING:tensorflow:No training configuration found in the save file, so the model was *not* compiled. Compile it manually.\n",
      "Latent dimension: 32\n"
     ]
    },
    {
     "name": "stderr",
     "output_type": "stream",
     "text": [
      "2022-05-21 13:10:03.636916: I tensorflow/core/grappler/optimizers/custom_graph_optimizer_registry.cc:112] Plugin optimizer for device_type GPU is enabled.\n"
     ]
    },
    {
     "name": "stdout",
     "output_type": "stream",
     "text": [
      "Scaled (150, 299, 299, 3) (404, 299, 299, 3)\n",
      "Scaled range for generated 136.70602 241.26382\n",
      "Scaled range for real 0.0 255.0\n",
      "Scaled range for generated 0.07220411 0.8922653\n",
      "Scaled range for real -1.0 1.0\n",
      ">>FID: 336.373\n",
      "--------------------------------------------------\n",
      "CPU times: user 52.1 s, sys: 13.4 s, total: 1min 5s\n",
      "Wall time: 13.7 s\n"
     ]
    }
   ],
   "source": [
    "%%time\n",
    "fid_score_display(\"/Users/miquel43/Documents/TFG/NUEVOS RESULTADOS EXPERIMENTACION - DCGAN (DISCO DURO Y FLORIDA)/DISCO_DURO_DCGAN_ADAM_DROPOUT_06_BATCH_SIZE_32/DD_DCGAN_ADAM_32_06_models/\", \"dcgan\", usf=False)"
   ]
  },
  {
   "cell_type": "markdown",
   "id": "d509f293",
   "metadata": {},
   "source": [
    "#### Adadelta Batch Size 32 Dropout 0.4"
   ]
  },
  {
   "cell_type": "code",
   "execution_count": 32,
   "id": "0cfd1b5a",
   "metadata": {},
   "outputs": [
    {
     "name": "stdout",
     "output_type": "stream",
     "text": [
      "WARNING:tensorflow:No training configuration found in the save file, so the model was *not* compiled. Compile it manually.\n",
      "Latent dimension: 32\n"
     ]
    },
    {
     "name": "stderr",
     "output_type": "stream",
     "text": [
      "2022-05-21 13:10:17.243251: I tensorflow/core/grappler/optimizers/custom_graph_optimizer_registry.cc:112] Plugin optimizer for device_type GPU is enabled.\n"
     ]
    },
    {
     "name": "stdout",
     "output_type": "stream",
     "text": [
      "Scaled (150, 299, 299, 3) (404, 299, 299, 3)\n",
      "Scaled range for generated 127.500015 188.50975\n",
      "Scaled range for real 0.0 255.0\n",
      "Scaled range for generated 1.1920929e-07 0.47850788\n",
      "Scaled range for real -1.0 1.0\n",
      ">>FID: 301.414\n",
      "--------------------------------------------------\n",
      "CPU times: user 51.4 s, sys: 13.2 s, total: 1min 4s\n",
      "Wall time: 13.3 s\n"
     ]
    }
   ],
   "source": [
    "%%time\n",
    "fid_score_display(\"/Users/miquel43/Documents/TFG/NUEVOS RESULTADOS EXPERIMENTACION - DCGAN (DISCO DURO Y FLORIDA)/DISCO_DURO_DCGAN_ADADELTA_DROPOUT_04_BATCH_SIZE_32/DD_DCGAN_ADADELTA_32_04_models/\", \"dcgan\", usf=False)"
   ]
  },
  {
   "cell_type": "markdown",
   "id": "c73862d8",
   "metadata": {},
   "source": [
    "#### Adadelta Batch Size 32 Dropout 0.5"
   ]
  },
  {
   "cell_type": "code",
   "execution_count": 33,
   "id": "15efa20a",
   "metadata": {},
   "outputs": [
    {
     "name": "stdout",
     "output_type": "stream",
     "text": [
      "WARNING:tensorflow:No training configuration found in the save file, so the model was *not* compiled. Compile it manually.\n",
      "Latent dimension: 32\n"
     ]
    },
    {
     "name": "stderr",
     "output_type": "stream",
     "text": [
      "2022-05-21 13:10:30.627462: I tensorflow/core/grappler/optimizers/custom_graph_optimizer_registry.cc:112] Plugin optimizer for device_type GPU is enabled.\n"
     ]
    },
    {
     "name": "stdout",
     "output_type": "stream",
     "text": [
      "Scaled (150, 299, 299, 3) (404, 299, 299, 3)\n",
      "Scaled range for generated 127.50096 216.02872\n",
      "Scaled range for real 0.0 255.0\n",
      "Scaled range for generated 7.5101852e-06 0.69434285\n",
      "Scaled range for real -1.0 1.0\n",
      ">>FID: 365.519\n",
      "--------------------------------------------------\n",
      "CPU times: user 53 s, sys: 13.5 s, total: 1min 6s\n",
      "Wall time: 13.7 s\n"
     ]
    }
   ],
   "source": [
    "%%time\n",
    "fid_score_display(\"/Users/miquel43/Documents/TFG/NUEVOS RESULTADOS EXPERIMENTACION - DCGAN (DISCO DURO Y FLORIDA)/DISCO_DURO_DCGAN_ADADELTA_DROPOUT_05_BATCH_SIZE_32/DD_DCGAN_ADADELTA_32_05_models/\", \"dcgan\", usf=False)"
   ]
  },
  {
   "cell_type": "markdown",
   "id": "963a7206",
   "metadata": {},
   "source": [
    "#### Adadelta Batch Size 32 Dropout 0.6"
   ]
  },
  {
   "cell_type": "code",
   "execution_count": 34,
   "id": "0bdadcbc",
   "metadata": {},
   "outputs": [
    {
     "name": "stdout",
     "output_type": "stream",
     "text": [
      "WARNING:tensorflow:No training configuration found in the save file, so the model was *not* compiled. Compile it manually.\n",
      "Latent dimension: 32\n"
     ]
    },
    {
     "name": "stderr",
     "output_type": "stream",
     "text": [
      "2022-05-21 13:10:44.735119: I tensorflow/core/grappler/optimizers/custom_graph_optimizer_registry.cc:112] Plugin optimizer for device_type GPU is enabled.\n"
     ]
    },
    {
     "name": "stdout",
     "output_type": "stream",
     "text": [
      "Scaled (150, 299, 299, 3) (404, 299, 299, 3)\n",
      "Scaled range for generated 127.69032 254.54211\n",
      "Scaled range for real 0.0 255.0\n",
      "Scaled range for generated 0.0014927387 0.9964087\n",
      "Scaled range for real -1.0 1.0\n",
      ">>FID: 226.043\n",
      "--------------------------------------------------\n",
      "CPU times: user 51.8 s, sys: 12 s, total: 1min 3s\n",
      "Wall time: 13.3 s\n"
     ]
    }
   ],
   "source": [
    "%%time\n",
    "fid_score_display(\"/Users/miquel43/Documents/TFG/NUEVOS RESULTADOS EXPERIMENTACION - DCGAN (DISCO DURO Y FLORIDA)/DISCO_DURO_DCGAN_ADADELTA_DROPOUT_06_BATCH_SIZE_32/DD_DCGAN_ADADELTA_32_06_models/\", \"dcgan\", usf=False)"
   ]
  },
  {
   "cell_type": "markdown",
   "id": "4115ec68",
   "metadata": {},
   "source": [
    "#### RMSprop Batch Size 32 Dropout 0.4 Learning Rate 0.0004"
   ]
  },
  {
   "cell_type": "code",
   "execution_count": 38,
   "id": "0b417cfc",
   "metadata": {},
   "outputs": [
    {
     "name": "stdout",
     "output_type": "stream",
     "text": [
      "WARNING:tensorflow:No training configuration found in the save file, so the model was *not* compiled. Compile it manually.\n",
      "Latent dimension: 32\n"
     ]
    },
    {
     "name": "stderr",
     "output_type": "stream",
     "text": [
      "2022-05-21 13:13:29.908743: I tensorflow/core/grappler/optimizers/custom_graph_optimizer_registry.cc:112] Plugin optimizer for device_type GPU is enabled.\n"
     ]
    },
    {
     "name": "stdout",
     "output_type": "stream",
     "text": [
      "Scaled (150, 299, 299, 3) (404, 299, 299, 3)\n",
      "Scaled range for generated 135.56773 254.97261\n",
      "Scaled range for real 0.0 255.0\n",
      "Scaled range for generated 0.06327629 0.9997852\n",
      "Scaled range for real -1.0 1.0\n",
      ">>FID: 234.777\n",
      "--------------------------------------------------\n",
      "CPU times: user 59.2 s, sys: 11.7 s, total: 1min 10s\n",
      "Wall time: 14.4 s\n"
     ]
    }
   ],
   "source": [
    "%%time\n",
    "fid_score_display(\"/Users/miquel43/Documents/TFG/NUEVOS RESULTADOS EXPERIMENTACION - DCGAN (DISCO DURO Y FLORIDA)/DISCO_DURO_DCGAN_RMSPROP_DROPOUT_04_BATCH_SIZE_32_LR_00004/DD_DCGAN_RMSPROP_32_04_LR_04_models/\", \"dcgan\", usf=False)"
   ]
  },
  {
   "cell_type": "markdown",
   "id": "d45a75f3",
   "metadata": {},
   "source": [
    "#### RMSprop Batch Size 32 Dropout 0.4 Learning Rate 0.001"
   ]
  },
  {
   "cell_type": "code",
   "execution_count": 39,
   "id": "06c961a6",
   "metadata": {},
   "outputs": [
    {
     "name": "stdout",
     "output_type": "stream",
     "text": [
      "WARNING:tensorflow:No training configuration found in the save file, so the model was *not* compiled. Compile it manually.\n",
      "Latent dimension: 32\n"
     ]
    },
    {
     "name": "stderr",
     "output_type": "stream",
     "text": [
      "2022-05-21 13:13:51.281895: I tensorflow/core/grappler/optimizers/custom_graph_optimizer_registry.cc:112] Plugin optimizer for device_type GPU is enabled.\n"
     ]
    },
    {
     "name": "stdout",
     "output_type": "stream",
     "text": [
      "Scaled (150, 299, 299, 3) (404, 299, 299, 3)\n",
      "Scaled range for generated 139.52528 254.57272\n",
      "Scaled range for real 0.0 255.0\n",
      "Scaled range for generated 0.094316006 0.9966488\n",
      "Scaled range for real -1.0 1.0\n",
      ">>FID: 276.022\n",
      "--------------------------------------------------\n",
      "CPU times: user 1min, sys: 12.2 s, total: 1min 12s\n",
      "Wall time: 14.7 s\n"
     ]
    }
   ],
   "source": [
    "%%time\n",
    "fid_score_display(\"/Users/miquel43/Documents/TFG/NUEVOS RESULTADOS EXPERIMENTACION - DCGAN (DISCO DURO Y FLORIDA)/DISCO_DURO_DCGAN_RMSPROP_DROPOUT_04_BATCH_SIZE_32_LR_0001/DD_DCGAN_RMSPROP_32_04_LR_01_models/\", usf=False)"
   ]
  },
  {
   "cell_type": "markdown",
   "id": "6b5e0c4a",
   "metadata": {},
   "source": [
    "## <font color='red'>WGAN-GP</font> "
   ]
  },
  {
   "cell_type": "markdown",
   "id": "eee24026",
   "metadata": {},
   "source": [
    "### MAMMI SOUTH FLORIDA"
   ]
  },
  {
   "cell_type": "markdown",
   "id": "5fbc5cc5",
   "metadata": {},
   "source": [
    "#### Batch Size 32 GP 10"
   ]
  },
  {
   "cell_type": "code",
   "execution_count": 9,
   "id": "1bc9fe84",
   "metadata": {},
   "outputs": [
    {
     "name": "stdout",
     "output_type": "stream",
     "text": [
      "WARNING:tensorflow:No training configuration found in the save file, so the model was *not* compiled. Compile it manually.\n",
      "Latent dimension: 128\n"
     ]
    },
    {
     "name": "stderr",
     "output_type": "stream",
     "text": [
      "2022-05-22 18:40:54.579497: I tensorflow/compiler/mlir/mlir_graph_optimization_pass.cc:185] None of the MLIR Optimization Passes are enabled (registered 2)\n",
      "2022-05-22 18:40:54.582568: W tensorflow/core/platform/profile_utils/cpu_utils.cc:128] Failed to get CPU frequency: 0 Hz\n",
      "2022-05-22 18:40:54.637412: I tensorflow/core/grappler/optimizers/custom_graph_optimizer_registry.cc:112] Plugin optimizer for device_type GPU is enabled.\n"
     ]
    },
    {
     "name": "stdout",
     "output_type": "stream",
     "text": [
      "Scaled (1000, 299, 299, 3) (2615, 299, 299, 3)\n",
      "Scaled range for generated 0.08219719 254.99467\n",
      "Scaled range for real 0.0 255.0\n",
      "Scaled range for generated -0.9993553 0.9999583\n",
      "Scaled range for real -1.0 1.0\n"
     ]
    },
    {
     "name": "stderr",
     "output_type": "stream",
     "text": [
      "2022-05-22 18:41:16.110484: I tensorflow/core/grappler/optimizers/custom_graph_optimizer_registry.cc:112] Plugin optimizer for device_type GPU is enabled.\n"
     ]
    },
    {
     "name": "stdout",
     "output_type": "stream",
     "text": [
      ">>FID: 227.619\n",
      "--------------------------------------------------\n",
      "CPU times: user 1min 4s, sys: 21.3 s, total: 1min 25s\n",
      "Wall time: 51.7 s\n"
     ]
    }
   ],
   "source": [
    "%%time\n",
    "fid_score_display(\"/Users/miquel43/Documents/TFG/NUEVOS RESULTADOS EXPERIMENTACION - WGAN (DISCO DURO Y FLORIDA)/florida_WGAN_BATCH_SIZE_32_GP_10_models/\", \"wgangp\", usf=True)"
   ]
  },
  {
   "cell_type": "markdown",
   "id": "e69543ee",
   "metadata": {},
   "source": [
    "#### Batch Size 32 GP 1"
   ]
  },
  {
   "cell_type": "code",
   "execution_count": 10,
   "id": "ec02b594",
   "metadata": {},
   "outputs": [
    {
     "name": "stdout",
     "output_type": "stream",
     "text": [
      "WARNING:tensorflow:No training configuration found in the save file, so the model was *not* compiled. Compile it manually.\n",
      "Latent dimension: 128\n"
     ]
    },
    {
     "name": "stderr",
     "output_type": "stream",
     "text": [
      "2022-05-22 18:46:37.169823: I tensorflow/core/grappler/optimizers/custom_graph_optimizer_registry.cc:112] Plugin optimizer for device_type GPU is enabled.\n"
     ]
    },
    {
     "name": "stdout",
     "output_type": "stream",
     "text": [
      "Scaled (1000, 299, 299, 3) (2615, 299, 299, 3)\n",
      "Scaled range for generated 0.0 255.0\n",
      "Scaled range for real 0.0 255.0\n",
      "Scaled range for generated -1.0 1.0\n",
      "Scaled range for real -1.0 1.0\n",
      ">>FID: 227.034\n",
      "--------------------------------------------------\n",
      "CPU times: user 1min 4s, sys: 26.4 s, total: 1min 30s\n",
      "Wall time: 50.4 s\n"
     ]
    }
   ],
   "source": [
    "%%time\n",
    "fid_score_display(\"/Users/miquel43/Documents/TFG/NUEVOS RESULTADOS EXPERIMENTACION - WGAN (DISCO DURO Y FLORIDA)/florida_WGAN_BATCH_SIZE_32_GP_1_models/\", \"wgangp\", usf=True)"
   ]
  },
  {
   "cell_type": "markdown",
   "id": "4cac751a",
   "metadata": {},
   "source": [
    "#### Batch Size 32 GP 0.1"
   ]
  },
  {
   "cell_type": "code",
   "execution_count": 11,
   "id": "383af0f3",
   "metadata": {},
   "outputs": [
    {
     "name": "stdout",
     "output_type": "stream",
     "text": [
      "WARNING:tensorflow:No training configuration found in the save file, so the model was *not* compiled. Compile it manually.\n",
      "Latent dimension: 128\n"
     ]
    },
    {
     "name": "stderr",
     "output_type": "stream",
     "text": [
      "2022-05-22 18:47:51.426564: I tensorflow/core/grappler/optimizers/custom_graph_optimizer_registry.cc:112] Plugin optimizer for device_type GPU is enabled.\n"
     ]
    },
    {
     "name": "stdout",
     "output_type": "stream",
     "text": [
      "Scaled (1000, 299, 299, 3) (2615, 299, 299, 3)\n",
      "Scaled range for generated 0.0 249.37946\n",
      "Scaled range for real 0.0 255.0\n",
      "Scaled range for generated -1.0 0.95591724\n",
      "Scaled range for real -1.0 1.0\n",
      ">>FID: 251.335\n",
      "--------------------------------------------------\n",
      "CPU times: user 1min 1s, sys: 25.7 s, total: 1min 26s\n",
      "Wall time: 48.7 s\n"
     ]
    }
   ],
   "source": [
    "%%time\n",
    "fid_score_display(\"/Users/miquel43/Documents/TFG/NUEVOS RESULTADOS EXPERIMENTACION - WGAN (DISCO DURO Y FLORIDA)/florida_WGAN_BATCH_SIZE_32_GP_01_models/\", \"wgangp\", usf=True)"
   ]
  },
  {
   "cell_type": "markdown",
   "id": "804c6c69",
   "metadata": {},
   "source": [
    "#### Batch Size 16 GP 10"
   ]
  },
  {
   "cell_type": "code",
   "execution_count": 12,
   "id": "937f025b",
   "metadata": {},
   "outputs": [
    {
     "name": "stdout",
     "output_type": "stream",
     "text": [
      "WARNING:tensorflow:No training configuration found in the save file, so the model was *not* compiled. Compile it manually.\n",
      "Latent dimension: 128\n"
     ]
    },
    {
     "name": "stderr",
     "output_type": "stream",
     "text": [
      "2022-05-22 18:49:00.413276: I tensorflow/core/grappler/optimizers/custom_graph_optimizer_registry.cc:112] Plugin optimizer for device_type GPU is enabled.\n"
     ]
    },
    {
     "name": "stdout",
     "output_type": "stream",
     "text": [
      "Scaled (1000, 299, 299, 3) (2615, 299, 299, 3)\n",
      "Scaled range for generated 7.599592e-06 254.99976\n",
      "Scaled range for real 0.0 255.0\n",
      "Scaled range for generated -0.99999994 0.9999981\n",
      "Scaled range for real -1.0 1.0\n",
      ">>FID: 230.097\n",
      "--------------------------------------------------\n",
      "CPU times: user 1min 7s, sys: 30 s, total: 1min 37s\n",
      "Wall time: 48.8 s\n"
     ]
    }
   ],
   "source": [
    "%%time\n",
    "fid_score_display(\"/Users/miquel43/Documents/TFG/NUEVOS RESULTADOS EXPERIMENTACION - WGAN (DISCO DURO Y FLORIDA)/florida_WGAN_BATCH_SIZE_16_GP_10_models/\", \"wgangp\", usf=True)"
   ]
  },
  {
   "cell_type": "markdown",
   "id": "3b2374f6",
   "metadata": {},
   "source": [
    "#### Batch Size 16 GP 1"
   ]
  },
  {
   "cell_type": "code",
   "execution_count": 13,
   "id": "f6ab4c40",
   "metadata": {},
   "outputs": [
    {
     "name": "stdout",
     "output_type": "stream",
     "text": [
      "WARNING:tensorflow:No training configuration found in the save file, so the model was *not* compiled. Compile it manually.\n",
      "Latent dimension: 128\n"
     ]
    },
    {
     "name": "stderr",
     "output_type": "stream",
     "text": [
      "2022-05-22 18:51:02.606635: I tensorflow/core/grappler/optimizers/custom_graph_optimizer_registry.cc:112] Plugin optimizer for device_type GPU is enabled.\n"
     ]
    },
    {
     "name": "stdout",
     "output_type": "stream",
     "text": [
      "Scaled (1000, 299, 299, 3) (2615, 299, 299, 3)\n",
      "Scaled range for generated 2.2798777e-05 255.0\n",
      "Scaled range for real 0.0 255.0\n",
      "Scaled range for generated -0.9999998 1.0\n",
      "Scaled range for real -1.0 1.0\n",
      ">>FID: 223.749\n",
      "--------------------------------------------------\n",
      "CPU times: user 1min 5s, sys: 29.5 s, total: 1min 34s\n",
      "Wall time: 49 s\n"
     ]
    }
   ],
   "source": [
    "%%time\n",
    "fid_score_display(\"/Users/miquel43/Documents/TFG/NUEVOS RESULTADOS EXPERIMENTACION - WGAN (DISCO DURO Y FLORIDA)/florida_WGAN_BATCH_SIZE_16_GP_1_models/\", \"wgangp\", usf=True)"
   ]
  },
  {
   "cell_type": "markdown",
   "id": "60ece45c",
   "metadata": {},
   "source": [
    "#### Batch Size 16 GP 0.1"
   ]
  },
  {
   "cell_type": "code",
   "execution_count": 14,
   "id": "f2fd022e",
   "metadata": {},
   "outputs": [
    {
     "name": "stdout",
     "output_type": "stream",
     "text": [
      "WARNING:tensorflow:No training configuration found in the save file, so the model was *not* compiled. Compile it manually.\n",
      "Latent dimension: 128\n"
     ]
    },
    {
     "name": "stderr",
     "output_type": "stream",
     "text": [
      "2022-05-22 18:51:51.616174: I tensorflow/core/grappler/optimizers/custom_graph_optimizer_registry.cc:112] Plugin optimizer for device_type GPU is enabled.\n"
     ]
    },
    {
     "name": "stdout",
     "output_type": "stream",
     "text": [
      "Scaled (1000, 299, 299, 3) (2615, 299, 299, 3)\n",
      "Scaled range for generated 3.0398369e-05 254.99951\n",
      "Scaled range for real 0.0 255.0\n",
      "Scaled range for generated -0.99999976 0.9999962\n",
      "Scaled range for real -1.0 1.0\n",
      ">>FID: 233.590\n",
      "--------------------------------------------------\n",
      "CPU times: user 1min 5s, sys: 30.8 s, total: 1min 36s\n",
      "Wall time: 49.1 s\n"
     ]
    }
   ],
   "source": [
    "%%time\n",
    "fid_score_display(\"/Users/miquel43/Documents/TFG/NUEVOS RESULTADOS EXPERIMENTACION - WGAN (DISCO DURO Y FLORIDA)/florida_WGAN_BATCH_SIZE_16_GP_01_models/\", \"wgangp\", usf=True)"
   ]
  },
  {
   "cell_type": "markdown",
   "id": "6c79520e",
   "metadata": {},
   "source": [
    "### DISCO DURO"
   ]
  },
  {
   "cell_type": "markdown",
   "id": "2bfcb183",
   "metadata": {},
   "source": [
    "#### Batch Size 32 GP 10"
   ]
  },
  {
   "cell_type": "code",
   "execution_count": 15,
   "id": "0e779131",
   "metadata": {},
   "outputs": [
    {
     "name": "stdout",
     "output_type": "stream",
     "text": [
      "WARNING:tensorflow:No training configuration found in the save file, so the model was *not* compiled. Compile it manually.\n",
      "Latent dimension: 128\n"
     ]
    },
    {
     "name": "stderr",
     "output_type": "stream",
     "text": [
      "2022-05-22 18:52:40.331820: I tensorflow/core/grappler/optimizers/custom_graph_optimizer_registry.cc:112] Plugin optimizer for device_type GPU is enabled.\n"
     ]
    },
    {
     "name": "stdout",
     "output_type": "stream",
     "text": [
      "Scaled (150, 299, 299, 3) (404, 299, 299, 3)\n",
      "Scaled range for generated 0.11463225 254.3251\n",
      "Scaled range for real 0.0 255.0\n",
      "Scaled range for generated -0.9991009 0.99470675\n",
      "Scaled range for real -1.0 1.0\n",
      ">>FID: 268.831\n",
      "--------------------------------------------------\n",
      "CPU times: user 48.7 s, sys: 12.7 s, total: 1min 1s\n",
      "Wall time: 13.7 s\n"
     ]
    }
   ],
   "source": [
    "%%time\n",
    "fid_score_display(\"/Users/miquel43/Documents/TFG/NUEVOS RESULTADOS EXPERIMENTACION - WGAN (DISCO DURO Y FLORIDA)/mammi_disco_duro_WGAN_BATCH_SIZE_32_GP_10_models/\", \"wgangp\", usf=False)"
   ]
  },
  {
   "cell_type": "markdown",
   "id": "f7b9846e",
   "metadata": {},
   "source": [
    "#### Batch Size 32 GP 1"
   ]
  },
  {
   "cell_type": "code",
   "execution_count": 16,
   "id": "82a15a2a",
   "metadata": {},
   "outputs": [
    {
     "name": "stdout",
     "output_type": "stream",
     "text": [
      "WARNING:tensorflow:No training configuration found in the save file, so the model was *not* compiled. Compile it manually.\n",
      "Latent dimension: 128\n"
     ]
    },
    {
     "name": "stderr",
     "output_type": "stream",
     "text": [
      "2022-05-22 18:52:54.072635: I tensorflow/core/grappler/optimizers/custom_graph_optimizer_registry.cc:112] Plugin optimizer for device_type GPU is enabled.\n"
     ]
    },
    {
     "name": "stdout",
     "output_type": "stream",
     "text": [
      "Scaled (150, 299, 299, 3) (404, 299, 299, 3)\n",
      "Scaled range for generated 0.031804293 230.7674\n",
      "Scaled range for real 0.0 255.0\n",
      "Scaled range for generated -0.99975055 0.80994034\n",
      "Scaled range for real -1.0 1.0\n",
      ">>FID: 221.532\n",
      "--------------------------------------------------\n",
      "CPU times: user 51.8 s, sys: 13.6 s, total: 1min 5s\n",
      "Wall time: 13.7 s\n"
     ]
    }
   ],
   "source": [
    "%%time\n",
    "fid_score_display(\"/Users/miquel43/Documents/TFG/NUEVOS RESULTADOS EXPERIMENTACION - WGAN (DISCO DURO Y FLORIDA)/mammi_disco_duro_WGAN_BATCH_SIZE_32_GP_1_models/\", \"wgangp\", usf=False)"
   ]
  },
  {
   "cell_type": "markdown",
   "id": "2626d8bc",
   "metadata": {},
   "source": [
    "#### Batch Size 32 GP 0.1"
   ]
  },
  {
   "cell_type": "code",
   "execution_count": 17,
   "id": "88234918",
   "metadata": {},
   "outputs": [
    {
     "name": "stdout",
     "output_type": "stream",
     "text": [
      "WARNING:tensorflow:No training configuration found in the save file, so the model was *not* compiled. Compile it manually.\n",
      "Latent dimension: 128\n"
     ]
    },
    {
     "name": "stderr",
     "output_type": "stream",
     "text": [
      "2022-05-22 18:53:07.880854: I tensorflow/core/grappler/optimizers/custom_graph_optimizer_registry.cc:112] Plugin optimizer for device_type GPU is enabled.\n"
     ]
    },
    {
     "name": "stdout",
     "output_type": "stream",
     "text": [
      "Scaled (150, 299, 299, 3) (404, 299, 299, 3)\n",
      "Scaled range for generated 0.0 243.43053\n",
      "Scaled range for real 0.0 255.0\n",
      "Scaled range for generated -1.0 0.9092591\n",
      "Scaled range for real -1.0 1.0\n",
      ">>FID: 268.086\n",
      "--------------------------------------------------\n",
      "CPU times: user 55.8 s, sys: 14.1 s, total: 1min 9s\n",
      "Wall time: 14.6 s\n"
     ]
    }
   ],
   "source": [
    "%%time\n",
    "fid_score_display(\"/Users/miquel43/Documents/TFG/NUEVOS RESULTADOS EXPERIMENTACION - WGAN (DISCO DURO Y FLORIDA)/mammi_disco_duro_WGAN_BATCH_SIZE_32_GP_01_models/\", \"wgangp\", usf=False)"
   ]
  },
  {
   "cell_type": "markdown",
   "id": "7977b14b",
   "metadata": {},
   "source": [
    "#### Batch Size 16 GP 10"
   ]
  },
  {
   "cell_type": "code",
   "execution_count": 9,
   "id": "87aa3a21",
   "metadata": {},
   "outputs": [
    {
     "name": "stdout",
     "output_type": "stream",
     "text": [
      "WARNING:tensorflow:No training configuration found in the save file, so the model was *not* compiled. Compile it manually.\n",
      "Latent dimension: 128\n"
     ]
    },
    {
     "name": "stderr",
     "output_type": "stream",
     "text": [
      "2022-06-05 20:04:56.716645: I tensorflow/compiler/mlir/mlir_graph_optimization_pass.cc:185] None of the MLIR Optimization Passes are enabled (registered 2)\n",
      "2022-06-05 20:04:56.719796: W tensorflow/core/platform/profile_utils/cpu_utils.cc:128] Failed to get CPU frequency: 0 Hz\n",
      "2022-06-05 20:04:56.780257: I tensorflow/core/grappler/optimizers/custom_graph_optimizer_registry.cc:112] Plugin optimizer for device_type GPU is enabled.\n"
     ]
    },
    {
     "name": "stdout",
     "output_type": "stream",
     "text": [
      "Scaled (150, 299, 299, 3) (404, 299, 299, 3)\n",
      "Scaled range for generated 1.2362105 243.79282\n",
      "Scaled range for real 0.0 255.0\n",
      "Scaled range for generated -0.99030423 0.91210055\n",
      "Scaled range for real -1.0 1.0\n"
     ]
    },
    {
     "name": "stderr",
     "output_type": "stream",
     "text": [
      "2022-06-05 20:05:01.130630: I tensorflow/core/grappler/optimizers/custom_graph_optimizer_registry.cc:112] Plugin optimizer for device_type GPU is enabled.\n"
     ]
    },
    {
     "name": "stdout",
     "output_type": "stream",
     "text": [
      ">>FID: 264.724\n",
      "--------------------------------------------------\n",
      "CPU times: user 1min 8s, sys: 13.5 s, total: 1min 22s\n",
      "Wall time: 24.2 s\n"
     ]
    }
   ],
   "source": [
    "%%time\n",
    "fid_score_display(\"/Users/miquel43/Documents/TFG/NUEVOS RESULTADOS EXPERIMENTACION - WGAN - GP (DISCO DURO Y FLORIDA)/mammi_disco_duro_WGAN_BATCH_SIZE_16_GP_10_models/\", \"wgangp\", usf=False)"
   ]
  },
  {
   "cell_type": "markdown",
   "id": "7ad3d285",
   "metadata": {},
   "source": [
    "#### Batch Size 16 GP 1"
   ]
  },
  {
   "cell_type": "code",
   "execution_count": 19,
   "id": "62fd8148",
   "metadata": {},
   "outputs": [
    {
     "name": "stdout",
     "output_type": "stream",
     "text": [
      "WARNING:tensorflow:No training configuration found in the save file, so the model was *not* compiled. Compile it manually.\n",
      "Latent dimension: 128\n"
     ]
    },
    {
     "name": "stderr",
     "output_type": "stream",
     "text": [
      "2022-05-22 18:53:36.976536: I tensorflow/core/grappler/optimizers/custom_graph_optimizer_registry.cc:112] Plugin optimizer for device_type GPU is enabled.\n"
     ]
    },
    {
     "name": "stdout",
     "output_type": "stream",
     "text": [
      "Scaled (150, 299, 299, 3) (404, 299, 299, 3)\n",
      "Scaled range for generated 4.1647816 241.36937\n",
      "Scaled range for real 0.0 255.0\n",
      "Scaled range for generated -0.96733505 0.8930931\n",
      "Scaled range for real -1.0 1.0\n",
      ">>FID: 239.813\n",
      "--------------------------------------------------\n",
      "CPU times: user 52.2 s, sys: 14.2 s, total: 1min 6s\n",
      "Wall time: 14.1 s\n"
     ]
    }
   ],
   "source": [
    "%%time\n",
    "fid_score_display(\"/Users/miquel43/Documents/TFG/NUEVOS RESULTADOS EXPERIMENTACION - WGAN (DISCO DURO Y FLORIDA)/mammi_disco_duro_WGAN_BATCH_SIZE_16_GP_1_models/\", \"wgangp\", usf=False)"
   ]
  },
  {
   "cell_type": "markdown",
   "id": "7087a010",
   "metadata": {},
   "source": [
    "#### Batch Size 16 GP 0.1"
   ]
  },
  {
   "cell_type": "code",
   "execution_count": 20,
   "id": "4a102366",
   "metadata": {},
   "outputs": [
    {
     "name": "stdout",
     "output_type": "stream",
     "text": [
      "WARNING:tensorflow:No training configuration found in the save file, so the model was *not* compiled. Compile it manually.\n",
      "Latent dimension: 128\n"
     ]
    },
    {
     "name": "stderr",
     "output_type": "stream",
     "text": [
      "2022-05-22 18:53:51.157451: I tensorflow/core/grappler/optimizers/custom_graph_optimizer_registry.cc:112] Plugin optimizer for device_type GPU is enabled.\n"
     ]
    },
    {
     "name": "stdout",
     "output_type": "stream",
     "text": [
      "Scaled (150, 299, 299, 3) (404, 299, 299, 3)\n",
      "Scaled range for generated 0.023619533 249.68779\n",
      "Scaled range for real 0.0 255.0\n",
      "Scaled range for generated -0.99981475 0.95833564\n",
      "Scaled range for real -1.0 1.0\n",
      ">>FID: 256.898\n",
      "--------------------------------------------------\n",
      "CPU times: user 1min 2s, sys: 16.1 s, total: 1min 18s\n",
      "Wall time: 16 s\n"
     ]
    }
   ],
   "source": [
    "%%time\n",
    "fid_score_display(\"/Users/miquel43/Documents/TFG/NUEVOS RESULTADOS EXPERIMENTACION - WGAN (DISCO DURO Y FLORIDA)/mammi_disco_duro_WGAN_BATCH_SIZE_16_GP_01_models/\", \"wgangp\", usf=False)"
   ]
  },
  {
   "cell_type": "markdown",
   "id": "2fe7fe8d",
   "metadata": {},
   "source": [
    "#### Batch Size 8 GP 10"
   ]
  },
  {
   "cell_type": "code",
   "execution_count": 10,
   "id": "6304e8aa",
   "metadata": {},
   "outputs": [
    {
     "name": "stdout",
     "output_type": "stream",
     "text": [
      "WARNING:tensorflow:No training configuration found in the save file, so the model was *not* compiled. Compile it manually.\n",
      "Latent dimension: 128\n"
     ]
    },
    {
     "name": "stderr",
     "output_type": "stream",
     "text": [
      "2022-06-05 20:05:48.875144: I tensorflow/core/grappler/optimizers/custom_graph_optimizer_registry.cc:112] Plugin optimizer for device_type GPU is enabled.\n"
     ]
    },
    {
     "name": "stdout",
     "output_type": "stream",
     "text": [
      "Scaled (150, 299, 299, 3) (404, 299, 299, 3)\n",
      "Scaled range for generated 1.6136898 220.64175\n",
      "Scaled range for real 0.0 255.0\n",
      "Scaled range for generated -0.9873436 0.7305236\n",
      "Scaled range for real -1.0 1.0\n",
      ">>FID: 259.189\n",
      "--------------------------------------------------\n",
      "CPU times: user 1min 2s, sys: 13.6 s, total: 1min 16s\n",
      "Wall time: 17.6 s\n"
     ]
    }
   ],
   "source": [
    "%%time\n",
    "fid_score_display(\"/Users/miquel43/Documents/TFG/NUEVOS RESULTADOS EXPERIMENTACION - WGAN - GP (DISCO DURO Y FLORIDA)/mammi_disco_duro_WGAN_BATCH_SIZE_8_GP_10_models/\", \"wgangp\", usf=False)"
   ]
  },
  {
   "cell_type": "markdown",
   "id": "1b7d7b0a",
   "metadata": {},
   "source": [
    "#### Batch Size 8 GP 1"
   ]
  },
  {
   "cell_type": "code",
   "execution_count": 11,
   "id": "8b60cf5b",
   "metadata": {},
   "outputs": [
    {
     "name": "stdout",
     "output_type": "stream",
     "text": [
      "WARNING:tensorflow:No training configuration found in the save file, so the model was *not* compiled. Compile it manually.\n",
      "Latent dimension: 128\n"
     ]
    },
    {
     "name": "stderr",
     "output_type": "stream",
     "text": [
      "2022-06-05 20:06:17.269387: I tensorflow/core/grappler/optimizers/custom_graph_optimizer_registry.cc:112] Plugin optimizer for device_type GPU is enabled.\n"
     ]
    },
    {
     "name": "stdout",
     "output_type": "stream",
     "text": [
      "Scaled (150, 299, 299, 3) (404, 299, 299, 3)\n",
      "Scaled range for generated 0.0067180395 255.0\n",
      "Scaled range for real 0.0 255.0\n",
      "Scaled range for generated -0.9999473 1.0\n",
      "Scaled range for real -1.0 1.0\n",
      ">>FID: 252.796\n",
      "--------------------------------------------------\n",
      "CPU times: user 1min 4s, sys: 13.1 s, total: 1min 17s\n",
      "Wall time: 17.6 s\n"
     ]
    }
   ],
   "source": [
    "%%time\n",
    "fid_score_display(\"/Users/miquel43/Documents/TFG/NUEVOS RESULTADOS EXPERIMENTACION - WGAN - GP (DISCO DURO Y FLORIDA)/mammi_disco_duro_WGAN_BATCH_SIZE_8_GP_1_models/\", \"wgangp\", usf=False)"
   ]
  },
  {
   "cell_type": "markdown",
   "id": "19384d8e",
   "metadata": {},
   "source": [
    "#### Batch Size 8 GP 0.1"
   ]
  },
  {
   "cell_type": "code",
   "execution_count": 12,
   "id": "2b4bea2b",
   "metadata": {},
   "outputs": [
    {
     "name": "stdout",
     "output_type": "stream",
     "text": [
      "WARNING:tensorflow:No training configuration found in the save file, so the model was *not* compiled. Compile it manually.\n",
      "Latent dimension: 128\n"
     ]
    },
    {
     "name": "stderr",
     "output_type": "stream",
     "text": [
      "2022-06-05 20:06:34.893574: I tensorflow/core/grappler/optimizers/custom_graph_optimizer_registry.cc:112] Plugin optimizer for device_type GPU is enabled.\n"
     ]
    },
    {
     "name": "stdout",
     "output_type": "stream",
     "text": [
      "Scaled (150, 299, 299, 3) (404, 299, 299, 3)\n",
      "Scaled range for generated 4.1413903 254.99974\n",
      "Scaled range for real 0.0 255.0\n",
      "Scaled range for generated -0.9675185 0.999998\n",
      "Scaled range for real -1.0 1.0\n",
      ">>FID: 274.927\n",
      "--------------------------------------------------\n",
      "CPU times: user 58.4 s, sys: 13.3 s, total: 1min 11s\n",
      "Wall time: 16.2 s\n"
     ]
    }
   ],
   "source": [
    "%%time\n",
    "fid_score_display(\"/Users/miquel43/Documents/TFG/NUEVOS RESULTADOS EXPERIMENTACION - WGAN - GP (DISCO DURO Y FLORIDA)/mammi_disco_duro_WGAN_BATCH_SIZE_8_GP_01_models/\", \"wgangp\", usf=False)"
   ]
  },
  {
   "cell_type": "markdown",
   "id": "11da2314",
   "metadata": {},
   "source": [
    "## <font color='red'>TRANSFER LEARNING</font> "
   ]
  },
  {
   "cell_type": "code",
   "execution_count": 10,
   "id": "6dd4613c",
   "metadata": {},
   "outputs": [
    {
     "name": "stdout",
     "output_type": "stream",
     "text": [
      "WARNING:tensorflow:No training configuration found in the save file, so the model was *not* compiled. Compile it manually.\n",
      "Latent dimension: 128\n"
     ]
    },
    {
     "name": "stderr",
     "output_type": "stream",
     "text": [
      "2022-06-09 13:23:58.668462: I tensorflow/compiler/mlir/mlir_graph_optimization_pass.cc:185] None of the MLIR Optimization Passes are enabled (registered 2)\n",
      "2022-06-09 13:23:58.671863: W tensorflow/core/platform/profile_utils/cpu_utils.cc:128] Failed to get CPU frequency: 0 Hz\n",
      "2022-06-09 13:23:58.733702: I tensorflow/core/grappler/optimizers/custom_graph_optimizer_registry.cc:112] Plugin optimizer for device_type GPU is enabled.\n"
     ]
    },
    {
     "name": "stdout",
     "output_type": "stream",
     "text": [
      "Scaled (150, 299, 299, 3) (404, 299, 299, 3)\n",
      "Scaled range for generated 0.0 236.91939\n",
      "Scaled range for real 0.0 255.0\n",
      "Scaled range for generated -1.0 0.85819125\n",
      "Scaled range for real -1.0 1.0\n"
     ]
    },
    {
     "name": "stderr",
     "output_type": "stream",
     "text": [
      "2022-06-09 13:24:01.800887: I tensorflow/core/grappler/optimizers/custom_graph_optimizer_registry.cc:112] Plugin optimizer for device_type GPU is enabled.\n"
     ]
    },
    {
     "name": "stdout",
     "output_type": "stream",
     "text": [
      ">>FID: 183.973\n",
      "--------------------------------------------------\n",
      "CPU times: user 55.7 s, sys: 11 s, total: 1min 6s\n",
      "Wall time: 16.4 s\n"
     ]
    }
   ],
   "source": [
    "%%time\n",
    "fid_score_display(\"/Users/miquel43/Documents/TFG/NUEVOS RESULTADOS EXPERIMENTACIÓN - TRANSFER LEARNING/model_generator_WGAN_16_1_TRANSFER/\", \"wgangp\", usf=False)"
   ]
  }
 ],
 "metadata": {
  "kernelspec": {
   "display_name": "Python 3 (ipykernel)",
   "language": "python",
   "name": "python3"
  },
  "language_info": {
   "codemirror_mode": {
    "name": "ipython",
    "version": 3
   },
   "file_extension": ".py",
   "mimetype": "text/x-python",
   "name": "python",
   "nbconvert_exporter": "python",
   "pygments_lexer": "ipython3",
   "version": "3.8.12"
  }
 },
 "nbformat": 4,
 "nbformat_minor": 5
}
