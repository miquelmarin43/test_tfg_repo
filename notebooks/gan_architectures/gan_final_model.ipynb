{
  "nbformat": 4,
  "nbformat_minor": 0,
  "metadata": {
    "colab": {
      "name": "gan_model.ipynb",
      "provenance": []
    },
    "kernelspec": {
      "name": "python3",
      "display_name": "Python 3"
    },
    "language_info": {
      "name": "python"
    },
    "accelerator": "GPU"
  },
  "cells": [
    {
      "cell_type": "markdown",
      "source": [
        "### Librerías"
      ],
      "metadata": {
        "id": "m4uTmL6vcVv2"
      }
    },
    {
      "cell_type": "code",
      "execution_count": 3,
      "metadata": {
        "id": "U8lSWt4tv7iN"
      },
      "outputs": [],
      "source": [
        "import numpy as np\n",
        "import warnings\n",
        "import matplotlib.pyplot as plt\n",
        "import tensorflow as tf\n",
        "import keras\n",
        "from tensorflow.keras.models import Model, Sequential \n",
        "from tensorflow.keras.layers import Input, Dense, Conv2D, Dropout, BatchNormalization, Conv2DTranspose, UpSampling2D, Flatten, Activation, Reshape\n",
        "from keras.layers.advanced_activations import LeakyReLU\n",
        "from tensorflow.keras.optimizers import RMSprop, Adam, Adadelta \n",
        "from google.colab import drive\n",
        "%matplotlib inline"
      ]
    },
    {
      "cell_type": "code",
      "source": [
        "warnings.filterwarnings(\"ignore\", category=FutureWarning)"
      ],
      "metadata": {
        "id": "1UAACWp_G41_"
      },
      "execution_count": 4,
      "outputs": []
    },
    {
      "cell_type": "markdown",
      "source": [
        "Acceder a los datos de Google Drive"
      ],
      "metadata": {
        "id": "w_8NjkRHdBsx"
      }
    },
    {
      "cell_type": "code",
      "source": [
        "drive.mount('/content/drive')"
      ],
      "metadata": {
        "colab": {
          "base_uri": "https://localhost:8080/"
        },
        "id": "jBpsZACzdEKV",
        "outputId": "849e5689-f358-41ce-e700-1d3398c2edb0"
      },
      "execution_count": 5,
      "outputs": [
        {
          "output_type": "stream",
          "name": "stdout",
          "text": [
            "Mounted at /content/drive\n"
          ]
        }
      ]
    },
    {
      "cell_type": "markdown",
      "source": [
        "Cargar datos y establecer (n_muestras, 224, 224, 1) como \"shape\"."
      ],
      "metadata": {
        "id": "5G0RoWPXdbWk"
      }
    },
    {
      "cell_type": "code",
      "source": [
        "images = \"/content/drive/MyDrive/mamma.npy\"\n",
        "np_images = np.load(images, allow_pickle=True)\n",
        "normalized_images = np_images/255\n",
        "normalized_images = np.reshape(normalized_images,(normalized_images.shape[0],224,224,1))"
      ],
      "metadata": {
        "id": "KTpMtPwMwAy-"
      },
      "execution_count": 6,
      "outputs": []
    },
    {
      "cell_type": "markdown",
      "source": [
        "#### Generador"
      ],
      "metadata": {
        "id": "jaxKU6TIdpYy"
      }
    },
    {
      "cell_type": "code",
      "source": [
        "def generator_architecture():\n",
        "    noise_shape = (32,)\n",
        "    \n",
        "    model = Sequential()\n",
        "    model.add(Dense(256, input_shape=noise_shape))\n",
        "    model.add(LeakyReLU(alpha=0.2))\n",
        "    model.add(Dropout(0.4))\n",
        "    model.add(BatchNormalization(momentum=0.8))\n",
        "    model.add(Dense(512))\n",
        "    model.add(LeakyReLU(alpha=0.2))\n",
        "    model.add(Dropout(0.4))\n",
        "    model.add(BatchNormalization(momentum=0.8))\n",
        "    model.add(Dense(1024))\n",
        "    model.add(LeakyReLU(alpha=0.2))\n",
        "    model.add(Dropout(0.4))\n",
        "    model.add(BatchNormalization(momentum=0.8))\n",
        "    \n",
        "    model.add(Dense(np.prod((224,224,1)), activation=\"tanh\"))\n",
        "    model.add(Reshape((224,224,1)))\n",
        "    \n",
        "    model.summary()\n",
        "    \n",
        "    noise = Input(shape=noise_shape)\n",
        "    fake_img = model(noise)\n",
        "    \n",
        "    return Model(noise, fake_img)"
      ],
      "metadata": {
        "id": "h7zkuFkpdoom"
      },
      "execution_count": 7,
      "outputs": []
    },
    {
      "cell_type": "code",
      "source": [
        "generator = generator_architecture()\n",
        "generator.summary()"
      ],
      "metadata": {
        "colab": {
          "base_uri": "https://localhost:8080/"
        },
        "id": "-VCGZTi2d6ih",
        "outputId": "b3068317-3639-4eaa-c150-6eb3f933301e"
      },
      "execution_count": 8,
      "outputs": [
        {
          "output_type": "stream",
          "name": "stdout",
          "text": [
            "Model: \"sequential\"\n",
            "_________________________________________________________________\n",
            " Layer (type)                Output Shape              Param #   \n",
            "=================================================================\n",
            " dense (Dense)               (None, 256)               8448      \n",
            "                                                                 \n",
            " leaky_re_lu (LeakyReLU)     (None, 256)               0         \n",
            "                                                                 \n",
            " dropout (Dropout)           (None, 256)               0         \n",
            "                                                                 \n",
            " batch_normalization (BatchN  (None, 256)              1024      \n",
            " ormalization)                                                   \n",
            "                                                                 \n",
            " dense_1 (Dense)             (None, 512)               131584    \n",
            "                                                                 \n",
            " leaky_re_lu_1 (LeakyReLU)   (None, 512)               0         \n",
            "                                                                 \n",
            " dropout_1 (Dropout)         (None, 512)               0         \n",
            "                                                                 \n",
            " batch_normalization_1 (Batc  (None, 512)              2048      \n",
            " hNormalization)                                                 \n",
            "                                                                 \n",
            " dense_2 (Dense)             (None, 1024)              525312    \n",
            "                                                                 \n",
            " leaky_re_lu_2 (LeakyReLU)   (None, 1024)              0         \n",
            "                                                                 \n",
            " dropout_2 (Dropout)         (None, 1024)              0         \n",
            "                                                                 \n",
            " batch_normalization_2 (Batc  (None, 1024)             4096      \n",
            " hNormalization)                                                 \n",
            "                                                                 \n",
            " dense_3 (Dense)             (None, 50176)             51430400  \n",
            "                                                                 \n",
            " reshape (Reshape)           (None, 224, 224, 1)       0         \n",
            "                                                                 \n",
            "=================================================================\n",
            "Total params: 52,102,912\n",
            "Trainable params: 52,099,328\n",
            "Non-trainable params: 3,584\n",
            "_________________________________________________________________\n",
            "Model: \"model\"\n",
            "_________________________________________________________________\n",
            " Layer (type)                Output Shape              Param #   \n",
            "=================================================================\n",
            " input_1 (InputLayer)        [(None, 32)]              0         \n",
            "                                                                 \n",
            " sequential (Sequential)     (None, 224, 224, 1)       52102912  \n",
            "                                                                 \n",
            "=================================================================\n",
            "Total params: 52,102,912\n",
            "Trainable params: 52,099,328\n",
            "Non-trainable params: 3,584\n",
            "_________________________________________________________________\n"
          ]
        }
      ]
    },
    {
      "cell_type": "markdown",
      "source": [
        "### Discriminador"
      ],
      "metadata": {
        "id": "Ep4kjXWZd_Qg"
      }
    },
    {
      "cell_type": "code",
      "source": [
        "def discriminator_architecture():\n",
        "    model = Sequential()\n",
        "    \n",
        "    model.add(Flatten(input_shape=(224,224,1)))\n",
        "    model.add(Dense(512))\n",
        "    model.add(LeakyReLU(alpha=0.2))\n",
        "    model.add(Dropout(0.4))\n",
        "    model.add(Dense(256))\n",
        "    model.add(LeakyReLU(alpha=0.2))\n",
        "    model.add(Dropout(0.4))\n",
        "    model.add(Dense(1, activation=\"sigmoid\"))\n",
        "    model.summary()\n",
        "    \n",
        "    img = Input(shape=(224,224,1))\n",
        "    validity = model(img)\n",
        "    \n",
        "    return Model(img, validity)"
      ],
      "metadata": {
        "id": "LYezPslkFYv7"
      },
      "execution_count": 9,
      "outputs": []
    },
    {
      "cell_type": "code",
      "source": [
        "discriminator = discriminator_architecture()\n",
        "discriminator.summary()"
      ],
      "metadata": {
        "colab": {
          "base_uri": "https://localhost:8080/"
        },
        "id": "FXDn9ps-F88-",
        "outputId": "2618a006-ced6-4ca0-d7e8-9657f50ae0b5"
      },
      "execution_count": 10,
      "outputs": [
        {
          "output_type": "stream",
          "name": "stdout",
          "text": [
            "Model: \"sequential_1\"\n",
            "_________________________________________________________________\n",
            " Layer (type)                Output Shape              Param #   \n",
            "=================================================================\n",
            " flatten (Flatten)           (None, 50176)             0         \n",
            "                                                                 \n",
            " dense_4 (Dense)             (None, 512)               25690624  \n",
            "                                                                 \n",
            " leaky_re_lu_3 (LeakyReLU)   (None, 512)               0         \n",
            "                                                                 \n",
            " dropout_3 (Dropout)         (None, 512)               0         \n",
            "                                                                 \n",
            " dense_5 (Dense)             (None, 256)               131328    \n",
            "                                                                 \n",
            " leaky_re_lu_4 (LeakyReLU)   (None, 256)               0         \n",
            "                                                                 \n",
            " dropout_4 (Dropout)         (None, 256)               0         \n",
            "                                                                 \n",
            " dense_6 (Dense)             (None, 1)                 257       \n",
            "                                                                 \n",
            "=================================================================\n",
            "Total params: 25,822,209\n",
            "Trainable params: 25,822,209\n",
            "Non-trainable params: 0\n",
            "_________________________________________________________________\n",
            "Model: \"model_1\"\n",
            "_________________________________________________________________\n",
            " Layer (type)                Output Shape              Param #   \n",
            "=================================================================\n",
            " input_2 (InputLayer)        [(None, 224, 224, 1)]     0         \n",
            "                                                                 \n",
            " sequential_1 (Sequential)   (None, 1)                 25822209  \n",
            "                                                                 \n",
            "=================================================================\n",
            "Total params: 25,822,209\n",
            "Trainable params: 25,822,209\n",
            "Non-trainable params: 0\n",
            "_________________________________________________________________\n"
          ]
        }
      ]
    },
    {
      "cell_type": "code",
      "source": [
        "discriminator.compile(loss='binary_crossentropy', optimizer=RMSprop(lr=0.0004, decay=6e-8, clipvalue=1.0), metrics=['accuracy'])"
      ],
      "metadata": {
        "colab": {
          "base_uri": "https://localhost:8080/"
        },
        "id": "-FJF1KdfGWOy",
        "outputId": "e2be440c-ead4-4c71-aadc-2269a83150c3"
      },
      "execution_count": 11,
      "outputs": [
        {
          "output_type": "stream",
          "name": "stderr",
          "text": [
            "/usr/local/lib/python3.7/dist-packages/keras/optimizer_v2/rmsprop.py:130: UserWarning: The `lr` argument is deprecated, use `learning_rate` instead.\n",
            "  super(RMSprop, self).__init__(name, **kwargs)\n"
          ]
        }
      ]
    },
    {
      "cell_type": "code",
      "source": [
        "noise = Input(shape=(32,))\n",
        "synthetic_img = generator(noise)"
      ],
      "metadata": {
        "id": "K9hp5_upwd9S"
      },
      "execution_count": 12,
      "outputs": []
    },
    {
      "cell_type": "code",
      "source": [
        "discriminator.trainable = False"
      ],
      "metadata": {
        "id": "Iuz-d45NwfWu"
      },
      "execution_count": 13,
      "outputs": []
    },
    {
      "cell_type": "code",
      "source": [
        "discriminator_pred = discriminator(synthetic_img)\n",
        "adversarial_model = Model(noise, discriminator_pred)"
      ],
      "metadata": {
        "id": "7xOOUg1mwgGu"
      },
      "execution_count": 14,
      "outputs": []
    },
    {
      "cell_type": "code",
      "source": [
        "adversarial_model.compile(loss='binary_crossentropy', optimizer=RMSprop(lr=0.0004, decay=3e-8, clipvalue=1.0), metrics=['accuracy'])"
      ],
      "metadata": {
        "colab": {
          "base_uri": "https://localhost:8080/"
        },
        "id": "NYNDW10mwheS",
        "outputId": "4f62fb1b-4339-499c-f355-63618adc8fc8"
      },
      "execution_count": 15,
      "outputs": [
        {
          "output_type": "stream",
          "name": "stderr",
          "text": [
            "/usr/local/lib/python3.7/dist-packages/keras/optimizer_v2/rmsprop.py:130: UserWarning: The `lr` argument is deprecated, use `learning_rate` instead.\n",
            "  super(RMSprop, self).__init__(name, **kwargs)\n"
          ]
        }
      ]
    },
    {
      "cell_type": "markdown",
      "source": [
        "Guardar modelo e imágenes creadas por cada \"x\" epochs que se establezcan."
      ],
      "metadata": {
        "id": "C-xgvUMEeg8M"
      }
    },
    {
      "cell_type": "code",
      "source": [
        "GENERATOR_PATH = \"/content/drive/MyDrive/generator_model_DCGAN/\"\n",
        "IMAGES = \"/content/drive/MyDrive/images/\""
      ],
      "metadata": {
        "id": "fgLvGAR31zNK"
      },
      "execution_count": 16,
      "outputs": []
    },
    {
      "cell_type": "markdown",
      "source": [
        "### Entrenamiento de la red"
      ],
      "metadata": {
        "id": "xSVacipxesJK"
      }
    },
    {
      "cell_type": "code",
      "source": [
        "def training_procedure(epochs=4000, batch=32):\n",
        "    \n",
        "    discriminator_stats, adversarial_stats = [], []\n",
        "    discriminator_loss , discriminator_acc = 0, 0\n",
        "    adversarial_loss, adversarial_acc = 0, 0\n",
        "\n",
        "    for epoch in range(1, epochs+1):\n",
        "        real_imgs = np.reshape(normalized_images[np.random.choice(normalized_images.shape[0],batch,replace=False)],(batch,224,224,1))\n",
        "        fake_imgs = generator.predict(np.random.uniform(-1.0, 1.0, size=[batch, 32]))\n",
        "    \n",
        "        real_and_fake_imgs = np.concatenate((real_imgs,fake_imgs))\n",
        "        \n",
        "        discriminator_labels = np.ones([2*batch,1])\n",
        "        discriminator_labels[batch:,:] = 0\n",
        "        \n",
        "        discriminator_stats.append(discriminator.train_on_batch(real_and_fake_imgs,discriminator_labels))\n",
        "        discriminator_loss += discriminator_stats[-1][0]\n",
        "        discriminator_acc += discriminator_stats[-1][1]\n",
        "        \n",
        "        noise = np.random.uniform(-1.0, 1.0, size=[batch, 32])\n",
        "        y = np.ones([batch,1])\n",
        "\n",
        "        adversarial_stats.append(adversarial_model.train_on_batch(noise,y)) \n",
        "        adversarial_loss += adversarial_stats[-1][0]\n",
        "        adversarial_acc += adversarial_stats[-1][1]\n",
        "             \n",
        "        print(\"%d: [D loss: %f, acc: %f]\" % (epoch, discriminator_loss/epoch, discriminator_acc/epoch))\n",
        "\n",
        "        if (epoch+1)%100 == 0: \n",
        "\n",
        "          noise = np.random.uniform(-1.0, 1.0, size=[16, 32])\n",
        "          gen_imgs = generator.predict(noise)\n",
        "          plt.figure(figsize=(7,7))\n",
        "\n",
        "          for k in range(gen_imgs.shape[0]):\n",
        "            plt.subplot(4, 4, k+1)\n",
        "            plt.imshow(gen_imgs[k, :, :, 0], cmap='gray')\n",
        "            plt.axis('off')\n",
        "            plt.savefig(IMAGES+'epoch%d.png' % (epoch))\n",
        " \n",
        "          plt.tight_layout()\n",
        "          plt.show()\n",
        "\n",
        "    generator.save(GENERATOR_PATH+'gan_generator_%d.h5' % (epoch))\n",
        "    \n",
        "    return discriminator_stats"
      ],
      "metadata": {
        "id": "d33uPgZbwimg"
      },
      "execution_count": 19,
      "outputs": []
    },
    {
      "cell_type": "code",
      "source": [
        "discriminator_metrics, adversarial_metrics = training_procedure()"
      ],
      "metadata": {
        "id": "X4nLrEjuVa19"
      },
      "execution_count": null,
      "outputs": []
    }
  ]
}