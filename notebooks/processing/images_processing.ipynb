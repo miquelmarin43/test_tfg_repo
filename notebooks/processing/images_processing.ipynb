{
 "cells": [
  {
   "cell_type": "markdown",
   "id": "0f26c23b",
   "metadata": {},
   "source": [
    "#### LIBRERÍAS"
   ]
  },
  {
   "cell_type": "code",
   "execution_count": 1,
   "id": "9a72987a",
   "metadata": {},
   "outputs": [],
   "source": [
    "from PIL import Image\n",
    "import os, sys\n",
    "from glob import glob\n",
    "import numpy as np\n",
    "import cv2"
   ]
  },
  {
   "cell_type": "markdown",
   "id": "369e3e33",
   "metadata": {},
   "source": [
    "#### PASAR IMÁGENES DE .GIF A .JPG"
   ]
  },
  {
   "cell_type": "code",
   "execution_count": 17,
   "id": "3c57300e",
   "metadata": {},
   "outputs": [],
   "source": [
    "src_img = \"/Users/miquel43/Documents/TFG/DIGITAL_MAMMOGRAPHY_GIF\"\n",
    "dest_img = \"/Users/miquel43/Documents/TFG/DIGITAL_MAMMOGRAPHY_JPG\"\n",
    "\n",
    "imgs = sorted([os.path.basename(i) for i in glob(os.path.join(src_img, '*.gif'))])"
   ]
  },
  {
   "cell_type": "code",
   "execution_count": 18,
   "id": "928c38cf",
   "metadata": {},
   "outputs": [],
   "source": [
    "for img in imgs:\n",
    "    Image.open(src_img+'/'+img).convert('L').save(dest_img+'/'+img+'.jpg')"
   ]
  },
  {
   "cell_type": "markdown",
   "id": "033218ee",
   "metadata": {},
   "source": [
    "#### RESIZE"
   ]
  },
  {
   "cell_type": "code",
   "execution_count": 5,
   "id": "acb05050",
   "metadata": {},
   "outputs": [],
   "source": [
    "def resize_new_version(path, condition_path, final_path, size):\n",
    "    for item in dirs:\n",
    "        if os.path.isfile(path+item):\n",
    "            if path+item == condition_path:\n",
    "                pass\n",
    "            else:\n",
    "                f, e = os.path.splitext(path+item)\n",
    "                im = Image.open(path+item)\n",
    "                imResize = im.resize(size, Image.ANTIALIAS)\n",
    "                imResize.save(final_path + item + ' resized.jpg', 'JPEG', quality=90)"
   ]
  },
  {
   "cell_type": "code",
   "execution_count": 6,
   "id": "a8d2b3fb",
   "metadata": {},
   "outputs": [],
   "source": [
    "path_ = \"/Users/miquel43/Documents/TFG/images_mammi/\"\n",
    "condition_path = \"/Users/miquel43/Documents/TFG/images_mammi/.DS_Store\"\n",
    "final_path_ = \"/Users/miquel43/Documents/TFG/images_mammi_disco_duro_resized/\"\n",
    "size = (224,224)\n",
    "dirs = os.listdir(path_)\n",
    "resize_new_version(path_, condition_path, final_path_, size)"
   ]
  },
  {
   "cell_type": "markdown",
   "id": "b8da7497",
   "metadata": {},
   "source": [
    "#### IMAGE TO GRAYSCALE"
   ]
  },
  {
   "cell_type": "code",
   "execution_count": 7,
   "id": "82db5c12",
   "metadata": {},
   "outputs": [],
   "source": [
    "src_img = \"/Users/miquel43/Documents/TFG/images_mammi_disco_duro_resized\"\n",
    "dest_img = \"/Users/miquel43/Documents/TFG/images_mammi_disco_duro_resized_grayscale\"\n",
    "\n",
    "imgs = sorted([os.path.basename(i) for i in glob(os.path.join(src_img, '*.jpg'))])"
   ]
  },
  {
   "cell_type": "code",
   "execution_count": 8,
   "id": "4c4c2c0c",
   "metadata": {},
   "outputs": [],
   "source": [
    "i = 0\n",
    "for image in imgs:\n",
    "    img = cv2.imread(src_img+'/'+image)\n",
    "    gray_images = cv2.cvtColor(img, cv2.COLOR_BGR2GRAY)\n",
    "    cv2.imwrite(dest_img+'/'+image, gray_images)\n",
    "    i += 1"
   ]
  },
  {
   "cell_type": "markdown",
   "id": "7d53c235",
   "metadata": {},
   "source": [
    "#### MERGE DE IMÁGENES EN UNA SOLA MATRIZ Y CONVERSIÓN A .NPY"
   ]
  },
  {
   "cell_type": "code",
   "execution_count": 2,
   "id": "6747667a",
   "metadata": {},
   "outputs": [],
   "source": [
    "dest_img = \"/Users/miquel43/Documents/TFG/images_mammi_disco_duro_resized_grayscale\"\n",
    "\n",
    "imgs = sorted([os.path.basename(i) for i in glob(os.path.join(dest_img, '*.jpg'))])\n",
    "imgs = [img for img in imgs if \"arriba\" in img]"
   ]
  },
  {
   "cell_type": "code",
   "execution_count": 3,
   "id": "7058349c",
   "metadata": {},
   "outputs": [],
   "source": [
    "x = np.array([np.array(Image.open(dest_img+'/'+img)) for img in imgs])"
   ]
  },
  {
   "cell_type": "code",
   "execution_count": 4,
   "id": "76cc4147",
   "metadata": {},
   "outputs": [],
   "source": [
    "x.dump(\"mamma_disco_duro_arriba.npy\")"
   ]
  }
 ],
 "metadata": {
  "kernelspec": {
   "display_name": "Python 3 (ipykernel)",
   "language": "python",
   "name": "python3"
  },
  "language_info": {
   "codemirror_mode": {
    "name": "ipython",
    "version": 3
   },
   "file_extension": ".py",
   "mimetype": "text/x-python",
   "name": "python",
   "nbconvert_exporter": "python",
   "pygments_lexer": "ipython3",
   "version": "3.8.12"
  }
 },
 "nbformat": 4,
 "nbformat_minor": 5
}
